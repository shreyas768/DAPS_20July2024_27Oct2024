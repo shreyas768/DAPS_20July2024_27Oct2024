{
 "cells": [
  {
   "cell_type": "markdown",
   "id": "b60a114d",
   "metadata": {},
   "source": [
    "### Dynamic Typing"
   ]
  },
  {
   "cell_type": "code",
   "execution_count": 1,
   "id": "173df8f7",
   "metadata": {},
   "outputs": [],
   "source": [
    "dogs = 2"
   ]
  },
  {
   "cell_type": "code",
   "execution_count": 2,
   "id": "fe838479",
   "metadata": {},
   "outputs": [
    {
     "data": {
      "text/plain": [
       "int"
      ]
     },
     "execution_count": 2,
     "metadata": {},
     "output_type": "execute_result"
    }
   ],
   "source": [
    "type(dogs)"
   ]
  },
  {
   "cell_type": "code",
   "execution_count": 3,
   "id": "d80de3d9",
   "metadata": {},
   "outputs": [
    {
     "data": {
      "text/plain": [
       "2"
      ]
     },
     "execution_count": 3,
     "metadata": {},
     "output_type": "execute_result"
    }
   ],
   "source": [
    "dogs"
   ]
  },
  {
   "cell_type": "code",
   "execution_count": 4,
   "id": "b750da25",
   "metadata": {},
   "outputs": [],
   "source": [
    "dogs = [12,21]"
   ]
  },
  {
   "cell_type": "code",
   "execution_count": 11,
   "id": "15bd5d0a",
   "metadata": {},
   "outputs": [
    {
     "data": {
      "text/plain": [
       "[12, 21]"
      ]
     },
     "execution_count": 11,
     "metadata": {},
     "output_type": "execute_result"
    }
   ],
   "source": [
    "dogs"
   ]
  },
  {
   "cell_type": "code",
   "execution_count": 12,
   "id": "9e34c080",
   "metadata": {},
   "outputs": [
    {
     "data": {
      "text/plain": [
       "list"
      ]
     },
     "execution_count": 12,
     "metadata": {},
     "output_type": "execute_result"
    }
   ],
   "source": [
    "type(dogs)"
   ]
  },
  {
   "cell_type": "markdown",
   "id": "cc811a80",
   "metadata": {},
   "source": [
    "### Variable Assignment\n",
    "\n",
    "* Order of execution is important and not the order of appearance (of code cells)"
   ]
  },
  {
   "cell_type": "code",
   "execution_count": 39,
   "id": "0e9700d3",
   "metadata": {},
   "outputs": [],
   "source": [
    "a = 5"
   ]
  },
  {
   "cell_type": "code",
   "execution_count": 40,
   "id": "bec29dee",
   "metadata": {},
   "outputs": [
    {
     "data": {
      "text/plain": [
       "5"
      ]
     },
     "execution_count": 40,
     "metadata": {},
     "output_type": "execute_result"
    }
   ],
   "source": [
    "a"
   ]
  },
  {
   "cell_type": "code",
   "execution_count": 47,
   "id": "deff353f",
   "metadata": {},
   "outputs": [],
   "source": [
    "a = a + 15"
   ]
  },
  {
   "cell_type": "code",
   "execution_count": 48,
   "id": "35d01597",
   "metadata": {},
   "outputs": [
    {
     "data": {
      "text/plain": [
       "65"
      ]
     },
     "execution_count": 48,
     "metadata": {},
     "output_type": "execute_result"
    }
   ],
   "source": [
    "a"
   ]
  },
  {
   "cell_type": "code",
   "execution_count": 49,
   "id": "83aadb99",
   "metadata": {},
   "outputs": [],
   "source": [
    "a = a+15"
   ]
  },
  {
   "cell_type": "code",
   "execution_count": 50,
   "id": "298caaa1",
   "metadata": {},
   "outputs": [
    {
     "data": {
      "text/plain": [
       "80"
      ]
     },
     "execution_count": 50,
     "metadata": {},
     "output_type": "execute_result"
    }
   ],
   "source": [
    "a"
   ]
  },
  {
   "cell_type": "code",
   "execution_count": 51,
   "id": "942dab80",
   "metadata": {},
   "outputs": [],
   "source": [
    "a += 15 #same as a = a + 15"
   ]
  },
  {
   "cell_type": "code",
   "execution_count": 52,
   "id": "8ca5289a",
   "metadata": {},
   "outputs": [
    {
     "data": {
      "text/plain": [
       "95"
      ]
     },
     "execution_count": 52,
     "metadata": {},
     "output_type": "execute_result"
    }
   ],
   "source": [
    "a"
   ]
  },
  {
   "cell_type": "code",
   "execution_count": 53,
   "id": "5860eff3",
   "metadata": {},
   "outputs": [],
   "source": [
    "a *= 2"
   ]
  },
  {
   "cell_type": "code",
   "execution_count": 54,
   "id": "5f01cd72",
   "metadata": {},
   "outputs": [
    {
     "data": {
      "text/plain": [
       "190"
      ]
     },
     "execution_count": 54,
     "metadata": {},
     "output_type": "execute_result"
    }
   ],
   "source": [
    "a"
   ]
  },
  {
   "cell_type": "code",
   "execution_count": 55,
   "id": "33ea53f0",
   "metadata": {},
   "outputs": [],
   "source": [
    "a -= 10"
   ]
  },
  {
   "cell_type": "code",
   "execution_count": 56,
   "id": "ca2a0246",
   "metadata": {},
   "outputs": [
    {
     "data": {
      "text/plain": [
       "180"
      ]
     },
     "execution_count": 56,
     "metadata": {},
     "output_type": "execute_result"
    }
   ],
   "source": [
    "a"
   ]
  },
  {
   "cell_type": "markdown",
   "id": "599d7f97",
   "metadata": {},
   "source": [
    "* my maggie cost is 12rs in which 2rs is gst. calculate orginal cost of maggie"
   ]
  },
  {
   "cell_type": "code",
   "execution_count": 57,
   "id": "1a649fc9",
   "metadata": {},
   "outputs": [
    {
     "data": {
      "text/plain": [
       "10"
      ]
     },
     "execution_count": 57,
     "metadata": {},
     "output_type": "execute_result"
    }
   ],
   "source": [
    "maggie = 12\n",
    "gst = 2\n",
    "original_cost = maggie-gst\n",
    "original_cost"
   ]
  },
  {
   "cell_type": "markdown",
   "id": "02c3a1c2",
   "metadata": {},
   "source": [
    "* my_income is 100rs and tax rate is 10%. calculate taxes that I have to pay?"
   ]
  },
  {
   "cell_type": "code",
   "execution_count": 60,
   "id": "2fb7d147",
   "metadata": {},
   "outputs": [],
   "source": [
    "my_income = 100\n",
    "tax_rate = 10 #pct\n",
    "\n",
    "taxes = (tax_rate/100)*my_income"
   ]
  },
  {
   "cell_type": "code",
   "execution_count": 61,
   "id": "00c4b150",
   "metadata": {},
   "outputs": [
    {
     "data": {
      "text/plain": [
       "10.0"
      ]
     },
     "execution_count": 61,
     "metadata": {},
     "output_type": "execute_result"
    }
   ],
   "source": [
    "taxes"
   ]
  },
  {
   "cell_type": "code",
   "execution_count": null,
   "id": "b3c28181",
   "metadata": {},
   "outputs": [],
   "source": []
  },
  {
   "cell_type": "code",
   "execution_count": null,
   "id": "73b40e46",
   "metadata": {},
   "outputs": [],
   "source": []
  }
 ],
 "metadata": {
  "kernelspec": {
   "display_name": "Python 3 (ipykernel)",
   "language": "python",
   "name": "python3"
  },
  "language_info": {
   "codemirror_mode": {
    "name": "ipython",
    "version": 3
   },
   "file_extension": ".py",
   "mimetype": "text/x-python",
   "name": "python",
   "nbconvert_exporter": "python",
   "pygments_lexer": "ipython3",
   "version": "3.11.5"
  }
 },
 "nbformat": 4,
 "nbformat_minor": 5
}
