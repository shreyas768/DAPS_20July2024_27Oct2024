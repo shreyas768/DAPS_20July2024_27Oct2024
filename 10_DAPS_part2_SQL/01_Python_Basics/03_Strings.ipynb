{
 "cells": [
  {
   "cell_type": "markdown",
   "id": "23b0b455",
   "metadata": {},
   "source": [
    "## Creating a String"
   ]
  },
  {
   "cell_type": "code",
   "execution_count": 1,
   "id": "34d7d2bd",
   "metadata": {},
   "outputs": [
    {
     "data": {
      "text/plain": [
       "'hello'"
      ]
     },
     "execution_count": 1,
     "metadata": {},
     "output_type": "execute_result"
    }
   ],
   "source": [
    "'hello'"
   ]
  },
  {
   "cell_type": "code",
   "execution_count": 2,
   "id": "d80b0657",
   "metadata": {},
   "outputs": [
    {
     "data": {
      "text/plain": [
       "'This is also a string'"
      ]
     },
     "execution_count": 2,
     "metadata": {},
     "output_type": "execute_result"
    }
   ],
   "source": [
    "'This is also a string'"
   ]
  },
  {
   "cell_type": "code",
   "execution_count": 3,
   "id": "6272ad32",
   "metadata": {},
   "outputs": [
    {
     "data": {
      "text/plain": [
       "'String with double quotes'"
      ]
     },
     "execution_count": 3,
     "metadata": {},
     "output_type": "execute_result"
    }
   ],
   "source": [
    "\"String with double quotes\""
   ]
  },
  {
   "cell_type": "code",
   "execution_count": 5,
   "id": "73e1bb5e",
   "metadata": {},
   "outputs": [
    {
     "ename": "SyntaxError",
     "evalue": "unterminated string literal (detected at line 1) (3394155053.py, line 1)",
     "output_type": "error",
     "traceback": [
      "\u001b[0;36m  Cell \u001b[0;32mIn[5], line 1\u001b[0;36m\u001b[0m\n\u001b[0;31m    'I'm using single quotes, but this will result in an error'\u001b[0m\n\u001b[0m                                                              ^\u001b[0m\n\u001b[0;31mSyntaxError\u001b[0m\u001b[0;31m:\u001b[0m unterminated string literal (detected at line 1)\n"
     ]
    }
   ],
   "source": [
    "'I'm using single quotes, but this will result in an error'"
   ]
  },
  {
   "cell_type": "code",
   "execution_count": 7,
   "id": "018bd58f",
   "metadata": {},
   "outputs": [],
   "source": [
    "x = \"Now i'm ready to use single quote inside a string\""
   ]
  },
  {
   "cell_type": "code",
   "execution_count": 8,
   "id": "94e2948b",
   "metadata": {},
   "outputs": [
    {
     "data": {
      "text/plain": [
       "str"
      ]
     },
     "execution_count": 8,
     "metadata": {},
     "output_type": "execute_result"
    }
   ],
   "source": [
    "type(x)"
   ]
  },
  {
   "cell_type": "markdown",
   "id": "af981317",
   "metadata": {},
   "source": [
    "## Printing a String"
   ]
  },
  {
   "cell_type": "code",
   "execution_count": 9,
   "id": "e6ce4b0b",
   "metadata": {},
   "outputs": [
    {
     "data": {
      "text/plain": [
       "'Hello world'"
      ]
     },
     "execution_count": 9,
     "metadata": {},
     "output_type": "execute_result"
    }
   ],
   "source": [
    "'Hello world'"
   ]
  },
  {
   "cell_type": "code",
   "execution_count": 10,
   "id": "6819ded1",
   "metadata": {},
   "outputs": [
    {
     "data": {
      "text/plain": [
       "'Hello world 2'"
      ]
     },
     "execution_count": 10,
     "metadata": {},
     "output_type": "execute_result"
    }
   ],
   "source": [
    "'Hello world 1'\n",
    "'Hello world 2'"
   ]
  },
  {
   "cell_type": "code",
   "execution_count": 11,
   "id": "395a91c7",
   "metadata": {},
   "outputs": [
    {
     "name": "stdout",
     "output_type": "stream",
     "text": [
      "Hello world 1\n",
      "Hello world 2\n"
     ]
    }
   ],
   "source": [
    "print('Hello world 1')\n",
    "print('Hello world 2')"
   ]
  },
  {
   "cell_type": "code",
   "execution_count": 12,
   "id": "2d66f62f",
   "metadata": {},
   "outputs": [
    {
     "data": {
      "text/plain": [
       "str"
      ]
     },
     "execution_count": 12,
     "metadata": {},
     "output_type": "execute_result"
    }
   ],
   "source": [
    "type('Hello world 1')"
   ]
  },
  {
   "cell_type": "code",
   "execution_count": 13,
   "id": "635de7f9",
   "metadata": {},
   "outputs": [
    {
     "name": "stdout",
     "output_type": "stream",
     "text": [
      "Hello world 1\n"
     ]
    },
    {
     "data": {
      "text/plain": [
       "NoneType"
      ]
     },
     "execution_count": 13,
     "metadata": {},
     "output_type": "execute_result"
    }
   ],
   "source": [
    "type(print('Hello world 1'))"
   ]
  },
  {
   "cell_type": "code",
   "execution_count": 14,
   "id": "a7adbc93",
   "metadata": {},
   "outputs": [
    {
     "name": "stdout",
     "output_type": "stream",
     "text": [
      "Hello world 1\n",
      "Hello world 2\n"
     ]
    }
   ],
   "source": [
    "print('Hello world 1\\nHello world 2')"
   ]
  },
  {
   "cell_type": "code",
   "execution_count": 15,
   "id": "b5bbcadc",
   "metadata": {},
   "outputs": [
    {
     "name": "stdout",
     "output_type": "stream",
     "text": [
      "Use \n",
      "to print a new line\n"
     ]
    }
   ],
   "source": [
    "print('Use \\nto print a new line')"
   ]
  },
  {
   "cell_type": "code",
   "execution_count": 16,
   "id": "a857c234",
   "metadata": {},
   "outputs": [
    {
     "name": "stdout",
     "output_type": "stream",
     "text": [
      "hello\n",
      "see what I mean?\n"
     ]
    }
   ],
   "source": [
    "print('hello\\nsee what I mean?')"
   ]
  },
  {
   "cell_type": "code",
   "execution_count": 17,
   "id": "45a0484f",
   "metadata": {},
   "outputs": [],
   "source": [
    "a = 'hello worldjlhdldfhwklqe686554'"
   ]
  },
  {
   "cell_type": "code",
   "execution_count": 18,
   "id": "1b078b3e",
   "metadata": {},
   "outputs": [
    {
     "data": {
      "text/plain": [
       "'hello worldjlhdldfhwklqe686554'"
      ]
     },
     "execution_count": 18,
     "metadata": {},
     "output_type": "execute_result"
    }
   ],
   "source": [
    "a"
   ]
  },
  {
   "cell_type": "code",
   "execution_count": 19,
   "id": "bc10ad84",
   "metadata": {},
   "outputs": [
    {
     "data": {
      "text/plain": [
       "30"
      ]
     },
     "execution_count": 19,
     "metadata": {},
     "output_type": "execute_result"
    }
   ],
   "source": [
    "len(a)"
   ]
  },
  {
   "cell_type": "markdown",
   "id": "e579e1f8",
   "metadata": {},
   "source": [
    "### String Indexing"
   ]
  },
  {
   "cell_type": "code",
   "execution_count": 20,
   "id": "4932a163",
   "metadata": {},
   "outputs": [],
   "source": [
    "s = 'Hello World'"
   ]
  },
  {
   "cell_type": "code",
   "execution_count": 21,
   "id": "cb55da25",
   "metadata": {},
   "outputs": [
    {
     "data": {
      "text/plain": [
       "'Hello World'"
      ]
     },
     "execution_count": 21,
     "metadata": {},
     "output_type": "execute_result"
    }
   ],
   "source": [
    "s"
   ]
  },
  {
   "cell_type": "code",
   "execution_count": 22,
   "id": "72d9420c",
   "metadata": {},
   "outputs": [
    {
     "name": "stdout",
     "output_type": "stream",
     "text": [
      "Hello World\n"
     ]
    }
   ],
   "source": [
    "print(s)"
   ]
  },
  {
   "cell_type": "code",
   "execution_count": 23,
   "id": "26030aba",
   "metadata": {},
   "outputs": [
    {
     "data": {
      "text/plain": [
       "'H'"
      ]
     },
     "execution_count": 23,
     "metadata": {},
     "output_type": "execute_result"
    }
   ],
   "source": [
    "s[0]"
   ]
  },
  {
   "cell_type": "code",
   "execution_count": 24,
   "id": "72fc24a9",
   "metadata": {},
   "outputs": [
    {
     "data": {
      "text/plain": [
       "'e'"
      ]
     },
     "execution_count": 24,
     "metadata": {},
     "output_type": "execute_result"
    }
   ],
   "source": [
    "s[1]"
   ]
  },
  {
   "cell_type": "code",
   "execution_count": 25,
   "id": "58e756ef",
   "metadata": {},
   "outputs": [
    {
     "data": {
      "text/plain": [
       "'l'"
      ]
     },
     "execution_count": 25,
     "metadata": {},
     "output_type": "execute_result"
    }
   ],
   "source": [
    "s[2]"
   ]
  },
  {
   "cell_type": "code",
   "execution_count": 26,
   "id": "9e9fa138",
   "metadata": {},
   "outputs": [
    {
     "data": {
      "text/plain": [
       "'l'"
      ]
     },
     "execution_count": 26,
     "metadata": {},
     "output_type": "execute_result"
    }
   ],
   "source": [
    "s[3]"
   ]
  },
  {
   "cell_type": "code",
   "execution_count": 27,
   "id": "15cd3b2a",
   "metadata": {},
   "outputs": [
    {
     "data": {
      "text/plain": [
       "'H'"
      ]
     },
     "execution_count": 27,
     "metadata": {},
     "output_type": "execute_result"
    }
   ],
   "source": [
    "s[-11]"
   ]
  },
  {
   "cell_type": "code",
   "execution_count": 28,
   "id": "430affa8",
   "metadata": {},
   "outputs": [
    {
     "data": {
      "text/plain": [
       "'e'"
      ]
     },
     "execution_count": 28,
     "metadata": {},
     "output_type": "execute_result"
    }
   ],
   "source": [
    "s[-10]"
   ]
  },
  {
   "cell_type": "code",
   "execution_count": 29,
   "id": "45c8caaf",
   "metadata": {},
   "outputs": [],
   "source": [
    "s1 = 'Hello World. I am the boss'"
   ]
  },
  {
   "cell_type": "code",
   "execution_count": 30,
   "id": "5af51cf0",
   "metadata": {},
   "outputs": [
    {
     "data": {
      "text/plain": [
       "26"
      ]
     },
     "execution_count": 30,
     "metadata": {},
     "output_type": "execute_result"
    }
   ],
   "source": [
    "len(s1)"
   ]
  },
  {
   "cell_type": "code",
   "execution_count": 31,
   "id": "6c7262f4",
   "metadata": {},
   "outputs": [
    {
     "data": {
      "text/plain": [
       "'H'"
      ]
     },
     "execution_count": 31,
     "metadata": {},
     "output_type": "execute_result"
    }
   ],
   "source": [
    "s1[-26]"
   ]
  },
  {
   "cell_type": "code",
   "execution_count": 32,
   "id": "787f1d6d",
   "metadata": {},
   "outputs": [
    {
     "data": {
      "text/plain": [
       "'H'"
      ]
     },
     "execution_count": 32,
     "metadata": {},
     "output_type": "execute_result"
    }
   ],
   "source": [
    "s1[0]"
   ]
  },
  {
   "cell_type": "code",
   "execution_count": 33,
   "id": "7df21cfe",
   "metadata": {},
   "outputs": [
    {
     "data": {
      "text/plain": [
       "'e'"
      ]
     },
     "execution_count": 33,
     "metadata": {},
     "output_type": "execute_result"
    }
   ],
   "source": [
    "s1[-6]"
   ]
  },
  {
   "cell_type": "code",
   "execution_count": 34,
   "id": "390c2c35",
   "metadata": {},
   "outputs": [
    {
     "data": {
      "text/plain": [
       "'s'"
      ]
     },
     "execution_count": 34,
     "metadata": {},
     "output_type": "execute_result"
    }
   ],
   "source": [
    "s1[25]"
   ]
  },
  {
   "cell_type": "code",
   "execution_count": 35,
   "id": "b68c0135",
   "metadata": {},
   "outputs": [
    {
     "data": {
      "text/plain": [
       "'s'"
      ]
     },
     "execution_count": 35,
     "metadata": {},
     "output_type": "execute_result"
    }
   ],
   "source": [
    "s1[-1]"
   ]
  },
  {
   "cell_type": "code",
   "execution_count": 36,
   "id": "f9b474b9",
   "metadata": {},
   "outputs": [
    {
     "data": {
      "text/plain": [
       "'e'"
      ]
     },
     "execution_count": 36,
     "metadata": {},
     "output_type": "execute_result"
    }
   ],
   "source": [
    "s2 = 'Shreyas'\n",
    "s2[3]"
   ]
  },
  {
   "cell_type": "code",
   "execution_count": 37,
   "id": "39649c2d",
   "metadata": {},
   "outputs": [
    {
     "data": {
      "text/plain": [
       "'e'"
      ]
     },
     "execution_count": 37,
     "metadata": {},
     "output_type": "execute_result"
    }
   ],
   "source": [
    "s2[-4]"
   ]
  },
  {
   "cell_type": "code",
   "execution_count": 38,
   "id": "be1ffb1c",
   "metadata": {},
   "outputs": [
    {
     "data": {
      "text/plain": [
       "'y'"
      ]
     },
     "execution_count": 38,
     "metadata": {},
     "output_type": "execute_result"
    }
   ],
   "source": [
    "s2[-3]"
   ]
  },
  {
   "cell_type": "markdown",
   "id": "3f5ae6be",
   "metadata": {},
   "source": [
    "### Slicing"
   ]
  },
  {
   "cell_type": "code",
   "execution_count": 39,
   "id": "ed0f9e18",
   "metadata": {},
   "outputs": [],
   "source": [
    "st = 'Hello World'"
   ]
  },
  {
   "cell_type": "code",
   "execution_count": 40,
   "id": "13b07218",
   "metadata": {},
   "outputs": [
    {
     "data": {
      "text/plain": [
       "'ello World'"
      ]
     },
     "execution_count": 40,
     "metadata": {},
     "output_type": "execute_result"
    }
   ],
   "source": [
    "st[1:]"
   ]
  },
  {
   "cell_type": "code",
   "execution_count": 41,
   "id": "f20345c9",
   "metadata": {},
   "outputs": [
    {
     "data": {
      "text/plain": [
       "'ell'"
      ]
     },
     "execution_count": 41,
     "metadata": {},
     "output_type": "execute_result"
    }
   ],
   "source": [
    "st[1:4]"
   ]
  },
  {
   "cell_type": "code",
   "execution_count": 42,
   "id": "e39843e6",
   "metadata": {},
   "outputs": [
    {
     "data": {
      "text/plain": [
       "'Hell'"
      ]
     },
     "execution_count": 42,
     "metadata": {},
     "output_type": "execute_result"
    }
   ],
   "source": [
    "st[0:4]"
   ]
  },
  {
   "cell_type": "code",
   "execution_count": 43,
   "id": "32231f69",
   "metadata": {},
   "outputs": [
    {
     "data": {
      "text/plain": [
       "'Hell'"
      ]
     },
     "execution_count": 43,
     "metadata": {},
     "output_type": "execute_result"
    }
   ],
   "source": [
    "st[:4]"
   ]
  },
  {
   "cell_type": "code",
   "execution_count": 44,
   "id": "1a931491",
   "metadata": {},
   "outputs": [
    {
     "data": {
      "text/plain": [
       "'World'"
      ]
     },
     "execution_count": 44,
     "metadata": {},
     "output_type": "execute_result"
    }
   ],
   "source": [
    "st[-5:]"
   ]
  },
  {
   "cell_type": "code",
   "execution_count": 45,
   "id": "a0ccf834",
   "metadata": {},
   "outputs": [
    {
     "data": {
      "text/plain": [
       "'Hello World'"
      ]
     },
     "execution_count": 45,
     "metadata": {},
     "output_type": "execute_result"
    }
   ],
   "source": [
    "st[::1]"
   ]
  },
  {
   "cell_type": "code",
   "execution_count": 46,
   "id": "89ef472e",
   "metadata": {},
   "outputs": [
    {
     "data": {
      "text/plain": [
       "'HloWrd'"
      ]
     },
     "execution_count": 46,
     "metadata": {},
     "output_type": "execute_result"
    }
   ],
   "source": [
    "st[::2]"
   ]
  },
  {
   "cell_type": "code",
   "execution_count": 47,
   "id": "09114f94",
   "metadata": {},
   "outputs": [
    {
     "data": {
      "text/plain": [
       "'Hlo'"
      ]
     },
     "execution_count": 47,
     "metadata": {},
     "output_type": "execute_result"
    }
   ],
   "source": [
    "st[:5:2]"
   ]
  },
  {
   "cell_type": "code",
   "execution_count": 48,
   "id": "94074605",
   "metadata": {},
   "outputs": [
    {
     "data": {
      "text/plain": [
       "'eoo'"
      ]
     },
     "execution_count": 48,
     "metadata": {},
     "output_type": "execute_result"
    }
   ],
   "source": [
    "st[1:-1:3]"
   ]
  },
  {
   "cell_type": "code",
   "execution_count": 49,
   "id": "7eb6e682",
   "metadata": {},
   "outputs": [
    {
     "data": {
      "text/plain": [
       "'dlroW olleH'"
      ]
     },
     "execution_count": 49,
     "metadata": {},
     "output_type": "execute_result"
    }
   ],
   "source": [
    "st[::-1]"
   ]
  },
  {
   "cell_type": "code",
   "execution_count": 50,
   "id": "05b38948",
   "metadata": {},
   "outputs": [],
   "source": [
    "t = 'Hello iHUB and RBPL. I will rate this course soon'\n",
    "\n",
    "# 1. len of t\n",
    "# 2. Hello iHUB and RBPL\n",
    "# 3. I will rate\n",
    "# 4. every alternate character in this string\n",
    "# 5. print point 2"
   ]
  },
  {
   "cell_type": "code",
   "execution_count": 51,
   "id": "0bfebb5b",
   "metadata": {},
   "outputs": [
    {
     "data": {
      "text/plain": [
       "49"
      ]
     },
     "execution_count": 51,
     "metadata": {},
     "output_type": "execute_result"
    }
   ],
   "source": [
    "len(t)"
   ]
  },
  {
   "cell_type": "code",
   "execution_count": 52,
   "id": "2a2a0ab7",
   "metadata": {},
   "outputs": [
    {
     "data": {
      "text/plain": [
       "'Hello iHUB and RBPL'"
      ]
     },
     "execution_count": 52,
     "metadata": {},
     "output_type": "execute_result"
    }
   ],
   "source": [
    "t[:19]"
   ]
  },
  {
   "cell_type": "code",
   "execution_count": 53,
   "id": "c3960619",
   "metadata": {},
   "outputs": [
    {
     "data": {
      "text/plain": [
       "'I will rate '"
      ]
     },
     "execution_count": 53,
     "metadata": {},
     "output_type": "execute_result"
    }
   ],
   "source": [
    "t[21:33]"
   ]
  },
  {
   "cell_type": "code",
   "execution_count": 54,
   "id": "98c04958",
   "metadata": {},
   "outputs": [
    {
     "data": {
      "text/plain": [
       "'HloiU n BL  ilrt hscus on'"
      ]
     },
     "execution_count": 54,
     "metadata": {},
     "output_type": "execute_result"
    }
   ],
   "source": [
    "t[::2]"
   ]
  },
  {
   "cell_type": "code",
   "execution_count": 55,
   "id": "75499aed",
   "metadata": {},
   "outputs": [
    {
     "name": "stdout",
     "output_type": "stream",
     "text": [
      "point 2 is: Hello iHUB and RBPL\n"
     ]
    }
   ],
   "source": [
    "print('point 2 is:',t[:19])"
   ]
  },
  {
   "cell_type": "markdown",
   "id": "69f5767e",
   "metadata": {},
   "source": [
    "### Properties of String\n",
    "\n",
    "strings are immutable"
   ]
  },
  {
   "cell_type": "code",
   "execution_count": 56,
   "id": "c2390a2c",
   "metadata": {},
   "outputs": [
    {
     "data": {
      "text/plain": [
       "'Hello World'"
      ]
     },
     "execution_count": 56,
     "metadata": {},
     "output_type": "execute_result"
    }
   ],
   "source": [
    "st"
   ]
  },
  {
   "cell_type": "code",
   "execution_count": 57,
   "id": "87c7573e",
   "metadata": {},
   "outputs": [
    {
     "ename": "TypeError",
     "evalue": "'str' object does not support item assignment",
     "output_type": "error",
     "traceback": [
      "\u001b[0;31m---------------------------------------------------------------------------\u001b[0m",
      "\u001b[0;31mTypeError\u001b[0m                                 Traceback (most recent call last)",
      "Cell \u001b[0;32mIn[57], line 1\u001b[0m\n\u001b[0;32m----> 1\u001b[0m st[\u001b[38;5;241m0\u001b[39m] \u001b[38;5;241m=\u001b[39m \u001b[38;5;124m'\u001b[39m\u001b[38;5;124mt\u001b[39m\u001b[38;5;124m'\u001b[39m\n",
      "\u001b[0;31mTypeError\u001b[0m: 'str' object does not support item assignment"
     ]
    }
   ],
   "source": [
    "st[0] = 't'"
   ]
  },
  {
   "cell_type": "code",
   "execution_count": 58,
   "id": "f1c596bf",
   "metadata": {},
   "outputs": [
    {
     "data": {
      "text/plain": [
       "'Hello World concatenate me !!'"
      ]
     },
     "execution_count": 58,
     "metadata": {},
     "output_type": "execute_result"
    }
   ],
   "source": [
    "#concatenation\n",
    "st + ' concatenate me !!'"
   ]
  },
  {
   "cell_type": "code",
   "execution_count": 59,
   "id": "5c3e9927",
   "metadata": {},
   "outputs": [
    {
     "data": {
      "text/plain": [
       "'23'"
      ]
     },
     "execution_count": 59,
     "metadata": {},
     "output_type": "execute_result"
    }
   ],
   "source": [
    "'2'+'3'"
   ]
  },
  {
   "cell_type": "code",
   "execution_count": 60,
   "id": "be37015d",
   "metadata": {},
   "outputs": [
    {
     "data": {
      "text/plain": [
       "5"
      ]
     },
     "execution_count": 60,
     "metadata": {},
     "output_type": "execute_result"
    }
   ],
   "source": [
    "2+3"
   ]
  },
  {
   "cell_type": "code",
   "execution_count": 61,
   "id": "9e890342",
   "metadata": {},
   "outputs": [
    {
     "name": "stdout",
     "output_type": "stream",
     "text": [
      "23\n"
     ]
    }
   ],
   "source": [
    "print('2'+'3')"
   ]
  },
  {
   "cell_type": "code",
   "execution_count": 62,
   "id": "ddb2f83e",
   "metadata": {},
   "outputs": [
    {
     "name": "stdout",
     "output_type": "stream",
     "text": [
      "5\n"
     ]
    }
   ],
   "source": [
    "print(2+3)"
   ]
  },
  {
   "cell_type": "code",
   "execution_count": 63,
   "id": "59f0fd8b",
   "metadata": {},
   "outputs": [
    {
     "data": {
      "text/plain": [
       "'hellohellohello'"
      ]
     },
     "execution_count": 63,
     "metadata": {},
     "output_type": "execute_result"
    }
   ],
   "source": [
    "'hello'*3 #multiplication symbol is for repetition"
   ]
  },
  {
   "cell_type": "code",
   "execution_count": 64,
   "id": "4cb8d3c1",
   "metadata": {},
   "outputs": [
    {
     "data": {
      "text/plain": [
       "'Hello WorldHello World'"
      ]
     },
     "execution_count": 64,
     "metadata": {},
     "output_type": "execute_result"
    }
   ],
   "source": [
    "st*2"
   ]
  },
  {
   "cell_type": "markdown",
   "id": "1ba251c9",
   "metadata": {},
   "source": [
    "### Basic Built-In String Methods\n",
    "\n",
    "object.method(parameters)"
   ]
  },
  {
   "cell_type": "code",
   "execution_count": 65,
   "id": "93f2a06a",
   "metadata": {},
   "outputs": [
    {
     "data": {
      "text/plain": [
       "'Hello World'"
      ]
     },
     "execution_count": 65,
     "metadata": {},
     "output_type": "execute_result"
    }
   ],
   "source": [
    "s "
   ]
  },
  {
   "cell_type": "code",
   "execution_count": 66,
   "id": "927dc7b9",
   "metadata": {},
   "outputs": [
    {
     "data": {
      "text/plain": [
       "<function str.upper()>"
      ]
     },
     "execution_count": 66,
     "metadata": {},
     "output_type": "execute_result"
    }
   ],
   "source": [
    "#upper case\n",
    "s.upper"
   ]
  },
  {
   "cell_type": "code",
   "execution_count": 67,
   "id": "52df006e",
   "metadata": {},
   "outputs": [
    {
     "data": {
      "text/plain": [
       "'HELLO WORLD'"
      ]
     },
     "execution_count": 67,
     "metadata": {},
     "output_type": "execute_result"
    }
   ],
   "source": [
    "s.upper()"
   ]
  },
  {
   "cell_type": "code",
   "execution_count": 68,
   "id": "b3444be5",
   "metadata": {},
   "outputs": [
    {
     "data": {
      "text/plain": [
       "'SHREYAS'"
      ]
     },
     "execution_count": 68,
     "metadata": {},
     "output_type": "execute_result"
    }
   ],
   "source": [
    "'shreyas'.upper()"
   ]
  },
  {
   "cell_type": "code",
   "execution_count": 69,
   "id": "b8d75384",
   "metadata": {},
   "outputs": [
    {
     "data": {
      "text/plain": [
       "'hello world'"
      ]
     },
     "execution_count": 69,
     "metadata": {},
     "output_type": "execute_result"
    }
   ],
   "source": [
    "#lower case\n",
    "s.lower()"
   ]
  },
  {
   "cell_type": "code",
   "execution_count": 71,
   "id": "5b4dd208",
   "metadata": {},
   "outputs": [
    {
     "data": {
      "text/plain": [
       "['Hello', 'World']"
      ]
     },
     "execution_count": 71,
     "metadata": {},
     "output_type": "execute_result"
    }
   ],
   "source": [
    "#split (default parameter is blank space)\n",
    "s.split()"
   ]
  },
  {
   "cell_type": "code",
   "execution_count": 72,
   "id": "0656cacf",
   "metadata": {},
   "outputs": [
    {
     "data": {
      "text/plain": [
       "['Hell', ' W', 'rld']"
      ]
     },
     "execution_count": 72,
     "metadata": {},
     "output_type": "execute_result"
    }
   ],
   "source": [
    "s.split('o')"
   ]
  },
  {
   "cell_type": "code",
   "execution_count": 74,
   "id": "c12e769a",
   "metadata": {},
   "outputs": [
    {
     "data": {
      "text/plain": [
       "['Hell', 'orld']"
      ]
     },
     "execution_count": 74,
     "metadata": {},
     "output_type": "execute_result"
    }
   ],
   "source": [
    "s.split('o W')"
   ]
  },
  {
   "cell_type": "code",
   "execution_count": 75,
   "id": "4cfed022",
   "metadata": {},
   "outputs": [
    {
     "data": {
      "text/plain": [
       "'Hello world'"
      ]
     },
     "execution_count": 75,
     "metadata": {},
     "output_type": "execute_result"
    }
   ],
   "source": [
    "s.capitalize()"
   ]
  },
  {
   "cell_type": "code",
   "execution_count": 76,
   "id": "c9f170c2",
   "metadata": {},
   "outputs": [
    {
     "data": {
      "text/plain": [
       "'Shreyas'"
      ]
     },
     "execution_count": 76,
     "metadata": {},
     "output_type": "execute_result"
    }
   ],
   "source": [
    "'shreyas'.capitalize()"
   ]
  },
  {
   "cell_type": "code",
   "execution_count": 77,
   "id": "f284b484",
   "metadata": {},
   "outputs": [
    {
     "data": {
      "text/plain": [
       "'Hi. how are you. i am good'"
      ]
     },
     "execution_count": 77,
     "metadata": {},
     "output_type": "execute_result"
    }
   ],
   "source": [
    "'hi. how are you. i am good'.capitalize()"
   ]
  },
  {
   "cell_type": "code",
   "execution_count": 78,
   "id": "9d4ab964",
   "metadata": {},
   "outputs": [],
   "source": [
    "st = 'hi. how are you. i am good'"
   ]
  },
  {
   "cell_type": "code",
   "execution_count": 79,
   "id": "ebbde09a",
   "metadata": {},
   "outputs": [
    {
     "data": {
      "text/plain": [
       "4"
      ]
     },
     "execution_count": 79,
     "metadata": {},
     "output_type": "execute_result"
    }
   ],
   "source": [
    "st.count('o')"
   ]
  },
  {
   "cell_type": "code",
   "execution_count": 82,
   "id": "ad826dc0",
   "metadata": {},
   "outputs": [
    {
     "data": {
      "text/plain": [
       "19"
      ]
     },
     "execution_count": 82,
     "metadata": {},
     "output_type": "execute_result"
    }
   ],
   "source": [
    "st.find('am')"
   ]
  },
  {
   "cell_type": "code",
   "execution_count": 83,
   "id": "3ff80242",
   "metadata": {},
   "outputs": [
    {
     "data": {
      "text/plain": [
       "'shreyas'"
      ]
     },
     "execution_count": 83,
     "metadata": {},
     "output_type": "execute_result"
    }
   ],
   "source": [
    "'shreyas@gmail.com'.removesuffix('@gmail.com')"
   ]
  },
  {
   "cell_type": "code",
   "execution_count": 84,
   "id": "908eb7bf",
   "metadata": {},
   "outputs": [
    {
     "data": {
      "text/plain": [
       "'Male'"
      ]
     },
     "execution_count": 84,
     "metadata": {},
     "output_type": "execute_result"
    }
   ],
   "source": [
    "'M'.replace('M','Male')"
   ]
  },
  {
   "cell_type": "code",
   "execution_count": 85,
   "id": "cdc0ac4e",
   "metadata": {},
   "outputs": [
    {
     "data": {
      "text/plain": [
       "'shreyas@yahoo.com'"
      ]
     },
     "execution_count": 85,
     "metadata": {},
     "output_type": "execute_result"
    }
   ],
   "source": [
    "'shreyas@gmail.com'.replace('gmail','yahoo')"
   ]
  },
  {
   "cell_type": "markdown",
   "id": "9ad36528",
   "metadata": {},
   "source": [
    "### Print Formatting"
   ]
  },
  {
   "cell_type": "code",
   "execution_count": 86,
   "id": "5fca492c",
   "metadata": {},
   "outputs": [
    {
     "data": {
      "text/plain": [
       "'Put another string with curly brackets: This is inserted string'"
      ]
     },
     "execution_count": 86,
     "metadata": {},
     "output_type": "execute_result"
    }
   ],
   "source": [
    "'Put another string with curly brackets: {}'.format('This is inserted string')"
   ]
  },
  {
   "cell_type": "code",
   "execution_count": 87,
   "id": "59bc338b",
   "metadata": {},
   "outputs": [
    {
     "data": {
      "text/plain": [
       "'I have Pen,Pencil and Paper'"
      ]
     },
     "execution_count": 87,
     "metadata": {},
     "output_type": "execute_result"
    }
   ],
   "source": [
    "'I have {},{} and {}'.format('Pen','Pencil','Paper')"
   ]
  },
  {
   "cell_type": "code",
   "execution_count": 89,
   "id": "ab8e6923",
   "metadata": {},
   "outputs": [
    {
     "data": {
      "text/plain": [
       "'The result was 99.5'"
      ]
     },
     "execution_count": 89,
     "metadata": {},
     "output_type": "execute_result"
    }
   ],
   "source": [
    "\n",
    "'The result was {s}'.format(s=199/2)"
   ]
  },
  {
   "cell_type": "code",
   "execution_count": 98,
   "id": "be5cec77",
   "metadata": {},
   "outputs": [
    {
     "name": "stdout",
     "output_type": "stream",
     "text": [
      "I have PEN,Pencil and paper table\n"
     ]
    }
   ],
   "source": [
    "print('I have {x},{y} and {z}'.format(x='Pen'.upper(),y='Pencil',z='Paper table'.lower()))"
   ]
  },
  {
   "cell_type": "code",
   "execution_count": 95,
   "id": "5c2425ff",
   "metadata": {},
   "outputs": [
    {
     "data": {
      "text/plain": [
       "'[hello,kjaskj]'"
      ]
     },
     "execution_count": 95,
     "metadata": {},
     "output_type": "execute_result"
    }
   ],
   "source": [
    "'[hello,kjaskj]'"
   ]
  },
  {
   "cell_type": "code",
   "execution_count": 100,
   "id": "780818a3",
   "metadata": {},
   "outputs": [
    {
     "data": {
      "text/plain": [
       "'Hello World'"
      ]
     },
     "execution_count": 100,
     "metadata": {},
     "output_type": "execute_result"
    }
   ],
   "source": [
    "s"
   ]
  },
  {
   "cell_type": "code",
   "execution_count": 101,
   "id": "cc2ced9d",
   "metadata": {},
   "outputs": [
    {
     "data": {
      "text/plain": [
       "'the result was Hello World'"
      ]
     },
     "execution_count": 101,
     "metadata": {},
     "output_type": "execute_result"
    }
   ],
   "source": [
    "x = 199/2\n",
    "\n",
    "\n",
    "f'the result was {s}'"
   ]
  },
  {
   "cell_type": "code",
   "execution_count": 104,
   "id": "a07740ae",
   "metadata": {},
   "outputs": [],
   "source": [
    "name = 'Shrey'\n",
    "course = 'DAPS'\n",
    "institute = 'IITr'\n",
    "company = 'RBPL'\n",
    "led_by = 'Shreyas'\n",
    "weeks = 15\n",
    "hrs_per_week = 4\n",
    "total_length = weeks*hrs_per_week\n",
    "\n",
    "\n",
    "#\"I'm Shreyas and course name is DAPS which is 60 hours course organised by IITr and RBPL and led by Shreyas\""
   ]
  },
  {
   "cell_type": "code",
   "execution_count": 106,
   "id": "1ebdf1c4",
   "metadata": {},
   "outputs": [
    {
     "data": {
      "text/plain": [
       "\"I'm 'Shrey' and course name is DAPS which is 60 hours course organised by IITr and RBPL and led by Shreyas.\""
      ]
     },
     "execution_count": 106,
     "metadata": {},
     "output_type": "execute_result"
    }
   ],
   "source": [
    "f\"I'm {name!r} and course name is {course} which is {total_length} hours course organised by {institute} and {company} and led by {led_by}.\""
   ]
  },
  {
   "cell_type": "code",
   "execution_count": 107,
   "id": "261f071c",
   "metadata": {},
   "outputs": [
    {
     "data": {
      "text/plain": [
       "'My four decimal number is :       23.5'"
      ]
     },
     "execution_count": 107,
     "metadata": {},
     "output_type": "execute_result"
    }
   ],
   "source": [
    "num = 23.45678\n",
    "\n",
    "f'My four decimal number is : {num:{10}.{3}}'"
   ]
  },
  {
   "cell_type": "code",
   "execution_count": 109,
   "id": "8ae9fefe",
   "metadata": {},
   "outputs": [
    {
     "name": "stdout",
     "output_type": "stream",
     "text": [
      "I'm going to inject some here and more here.\n"
     ]
    }
   ],
   "source": [
    "x,y = 'some','more'\n",
    "\n",
    "print(\"I'm going to inject %s here and %s here.\"%(x,y))"
   ]
  },
  {
   "cell_type": "code",
   "execution_count": null,
   "id": "eff78f1c",
   "metadata": {},
   "outputs": [],
   "source": []
  }
 ],
 "metadata": {
  "kernelspec": {
   "display_name": "Python 3 (ipykernel)",
   "language": "python",
   "name": "python3"
  },
  "language_info": {
   "codemirror_mode": {
    "name": "ipython",
    "version": 3
   },
   "file_extension": ".py",
   "mimetype": "text/x-python",
   "name": "python",
   "nbconvert_exporter": "python",
   "pygments_lexer": "ipython3",
   "version": "3.11.5"
  }
 },
 "nbformat": 4,
 "nbformat_minor": 5
}
