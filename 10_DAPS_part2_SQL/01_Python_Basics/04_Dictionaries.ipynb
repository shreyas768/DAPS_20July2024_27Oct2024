{
 "cells": [
  {
   "cell_type": "markdown",
   "id": "0ba663cf",
   "metadata": {},
   "source": [
    "### Constructing a Dictionaries"
   ]
  },
  {
   "cell_type": "code",
   "execution_count": 1,
   "id": "8920d6e2",
   "metadata": {},
   "outputs": [],
   "source": [
    "my_dict = {'key1':'value1','key2':34}"
   ]
  },
  {
   "cell_type": "code",
   "execution_count": 3,
   "id": "31a7f27e",
   "metadata": {},
   "outputs": [
    {
     "data": {
      "text/plain": [
       "str"
      ]
     },
     "execution_count": 3,
     "metadata": {},
     "output_type": "execute_result"
    }
   ],
   "source": [
    "type(my_dict['key1'])"
   ]
  },
  {
   "cell_type": "code",
   "execution_count": 4,
   "id": "0f951761",
   "metadata": {},
   "outputs": [
    {
     "data": {
      "text/plain": [
       "dict"
      ]
     },
     "execution_count": 4,
     "metadata": {},
     "output_type": "execute_result"
    }
   ],
   "source": [
    "type(my_dict)"
   ]
  },
  {
   "cell_type": "code",
   "execution_count": 5,
   "id": "b21d74a1",
   "metadata": {},
   "outputs": [
    {
     "data": {
      "text/plain": [
       "int"
      ]
     },
     "execution_count": 5,
     "metadata": {},
     "output_type": "execute_result"
    }
   ],
   "source": [
    "type(my_dict['key2'])"
   ]
  },
  {
   "cell_type": "code",
   "execution_count": 23,
   "id": "e884710b",
   "metadata": {},
   "outputs": [],
   "source": [
    "my_dict1 = {'k1':123,'k2':12.32,'k3':[12,'hello ','hi',['shreyas','IITkgp']],'k4':{'nest_k':'world'}}"
   ]
  },
  {
   "cell_type": "code",
   "execution_count": 24,
   "id": "f1f494cc",
   "metadata": {},
   "outputs": [
    {
     "data": {
      "text/plain": [
       "'hell'"
      ]
     },
     "execution_count": 24,
     "metadata": {},
     "output_type": "execute_result"
    }
   ],
   "source": [
    "my_dict1['k3'][1][:4]"
   ]
  },
  {
   "cell_type": "code",
   "execution_count": 25,
   "id": "d2e2b897",
   "metadata": {},
   "outputs": [
    {
     "data": {
      "text/plain": [
       "'hello world'"
      ]
     },
     "execution_count": 25,
     "metadata": {},
     "output_type": "execute_result"
    }
   ],
   "source": [
    "my_dict1['k3'][1]+my_dict1['k4']['nest_k']"
   ]
  },
  {
   "cell_type": "code",
   "execution_count": 26,
   "id": "5913d197",
   "metadata": {},
   "outputs": [],
   "source": [
    "my_dict1['k4'] = [12,'shreyas','rbpl']"
   ]
  },
  {
   "cell_type": "code",
   "execution_count": 27,
   "id": "f6d50857",
   "metadata": {},
   "outputs": [
    {
     "data": {
      "text/plain": [
       "{'k1': 123,\n",
       " 'k2': 12.32,\n",
       " 'k3': [12, 'hello ', 'hi', ['shreyas', 'IITkgp']],\n",
       " 'k4': [12, 'shreyas', 'rbpl']}"
      ]
     },
     "execution_count": 27,
     "metadata": {},
     "output_type": "execute_result"
    }
   ],
   "source": [
    "my_dict1"
   ]
  },
  {
   "cell_type": "code",
   "execution_count": 30,
   "id": "b35f0e91",
   "metadata": {},
   "outputs": [],
   "source": [
    "my_dict1['k15']= 'this is a new key:value pair'"
   ]
  },
  {
   "cell_type": "code",
   "execution_count": 31,
   "id": "3563b504",
   "metadata": {},
   "outputs": [
    {
     "data": {
      "text/plain": [
       "{'k1': 123,\n",
       " 'k2': 12.32,\n",
       " 'k3': [12, 'hello ', 'hi', ['shreyas', 'IITkgp']],\n",
       " 'k4': [12, 'shreyas', 'rbpl'],\n",
       " 'k5': 'this is a new key:value pair',\n",
       " 'k15': 'this is a new key:value pair'}"
      ]
     },
     "execution_count": 31,
     "metadata": {},
     "output_type": "execute_result"
    }
   ],
   "source": [
    "my_dict1"
   ]
  },
  {
   "cell_type": "code",
   "execution_count": 34,
   "id": "7d4e7c2e",
   "metadata": {},
   "outputs": [],
   "source": [
    "my_dict1['k7']=123"
   ]
  },
  {
   "cell_type": "code",
   "execution_count": 37,
   "id": "94c49bdb",
   "metadata": {},
   "outputs": [
    {
     "data": {
      "text/plain": [
       "{'k1': 123,\n",
       " 'k2': 12.32,\n",
       " 'k3': [12, 'hello ', 'hi', ['shreyas', 'IITkgp']],\n",
       " 'k4': [12, 'shreyas', 'rbpl'],\n",
       " 'k5': 'this is a new key:value pair',\n",
       " 'k15': 'this is a new key:value pair',\n",
       " 'k7': 123}"
      ]
     },
     "execution_count": 37,
     "metadata": {},
     "output_type": "execute_result"
    }
   ],
   "source": [
    "my_dict1"
   ]
  },
  {
   "cell_type": "markdown",
   "id": "b6a5a1b3",
   "metadata": {},
   "source": [
    "### Few Dictionary Methods"
   ]
  },
  {
   "cell_type": "code",
   "execution_count": 43,
   "id": "86ca7bba",
   "metadata": {},
   "outputs": [],
   "source": [
    "my_dict1 = {'key1':1,'Key2':2,'key3':3}"
   ]
  },
  {
   "cell_type": "code",
   "execution_count": 44,
   "id": "7c3f277f",
   "metadata": {},
   "outputs": [
    {
     "data": {
      "text/plain": [
       "dict_keys(['key1', 'Key2', 'key3'])"
      ]
     },
     "execution_count": 44,
     "metadata": {},
     "output_type": "execute_result"
    }
   ],
   "source": [
    "#return a list of all the keys\n",
    "my_dict1.keys()"
   ]
  },
  {
   "cell_type": "code",
   "execution_count": 45,
   "id": "3d1770d7",
   "metadata": {},
   "outputs": [
    {
     "data": {
      "text/plain": [
       "dict_values([1, 2, 3])"
      ]
     },
     "execution_count": 45,
     "metadata": {},
     "output_type": "execute_result"
    }
   ],
   "source": [
    "#return a list of all the values\n",
    "my_dict1.values()"
   ]
  },
  {
   "cell_type": "code",
   "execution_count": 47,
   "id": "bb97602b",
   "metadata": {},
   "outputs": [
    {
     "data": {
      "text/plain": [
       "dict_items([('key1', 1), ('Key2', 2), ('key3', 3)])"
      ]
     },
     "execution_count": 47,
     "metadata": {},
     "output_type": "execute_result"
    }
   ],
   "source": [
    "#method to return turples of all the items\n",
    "my_dict1.items()"
   ]
  },
  {
   "cell_type": "code",
   "execution_count": null,
   "id": "82a7dbcd",
   "metadata": {},
   "outputs": [],
   "source": []
  }
 ],
 "metadata": {
  "kernelspec": {
   "display_name": "Python 3 (ipykernel)",
   "language": "python",
   "name": "python3"
  },
  "language_info": {
   "codemirror_mode": {
    "name": "ipython",
    "version": 3
   },
   "file_extension": ".py",
   "mimetype": "text/x-python",
   "name": "python",
   "nbconvert_exporter": "python",
   "pygments_lexer": "ipython3",
   "version": "3.11.5"
  }
 },
 "nbformat": 4,
 "nbformat_minor": 5
}
