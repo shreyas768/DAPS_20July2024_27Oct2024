{
 "cells": [
  {
   "cell_type": "code",
   "execution_count": 1,
   "id": "6084c98d",
   "metadata": {},
   "outputs": [],
   "source": [
    "my_list = [1,2,3]"
   ]
  },
  {
   "cell_type": "code",
   "execution_count": 2,
   "id": "614f3aab",
   "metadata": {},
   "outputs": [
    {
     "data": {
      "text/plain": [
       "list"
      ]
     },
     "execution_count": 2,
     "metadata": {},
     "output_type": "execute_result"
    }
   ],
   "source": [
    "type(my_list)"
   ]
  },
  {
   "cell_type": "code",
   "execution_count": 3,
   "id": "2ce29f69",
   "metadata": {},
   "outputs": [],
   "source": [
    "my_list = ['A string',23,100.232,'o']"
   ]
  },
  {
   "cell_type": "code",
   "execution_count": 4,
   "id": "272932c7",
   "metadata": {},
   "outputs": [
    {
     "data": {
      "text/plain": [
       "4"
      ]
     },
     "execution_count": 4,
     "metadata": {},
     "output_type": "execute_result"
    }
   ],
   "source": [
    "len(my_list)"
   ]
  },
  {
   "cell_type": "markdown",
   "id": "81b2322e",
   "metadata": {},
   "source": [
    "### Indexing and Slicing"
   ]
  },
  {
   "cell_type": "code",
   "execution_count": 5,
   "id": "36a255f4",
   "metadata": {},
   "outputs": [],
   "source": [
    "my_list = ['one','two','three',6.5,23]"
   ]
  },
  {
   "cell_type": "code",
   "execution_count": 6,
   "id": "6bce0209",
   "metadata": {},
   "outputs": [
    {
     "data": {
      "text/plain": [
       "'one'"
      ]
     },
     "execution_count": 6,
     "metadata": {},
     "output_type": "execute_result"
    }
   ],
   "source": [
    "my_list[0]"
   ]
  },
  {
   "cell_type": "code",
   "execution_count": 7,
   "id": "c812f2e0",
   "metadata": {},
   "outputs": [
    {
     "data": {
      "text/plain": [
       "str"
      ]
     },
     "execution_count": 7,
     "metadata": {},
     "output_type": "execute_result"
    }
   ],
   "source": [
    "type(my_list[0])"
   ]
  },
  {
   "cell_type": "code",
   "execution_count": 8,
   "id": "c5681b8c",
   "metadata": {},
   "outputs": [
    {
     "data": {
      "text/plain": [
       "['two', 'three', 6.5, 23]"
      ]
     },
     "execution_count": 8,
     "metadata": {},
     "output_type": "execute_result"
    }
   ],
   "source": [
    "my_list[1:]"
   ]
  },
  {
   "cell_type": "code",
   "execution_count": 9,
   "id": "4d72dde4",
   "metadata": {},
   "outputs": [
    {
     "data": {
      "text/plain": [
       "['one', 'two', 'three']"
      ]
     },
     "execution_count": 9,
     "metadata": {},
     "output_type": "execute_result"
    }
   ],
   "source": [
    "my_list[:3]"
   ]
  },
  {
   "cell_type": "code",
   "execution_count": 10,
   "id": "379a33b2",
   "metadata": {},
   "outputs": [
    {
     "data": {
      "text/plain": [
       "'n'"
      ]
     },
     "execution_count": 10,
     "metadata": {},
     "output_type": "execute_result"
    }
   ],
   "source": [
    "my_list[0][-2]"
   ]
  },
  {
   "cell_type": "code",
   "execution_count": 11,
   "id": "96a434ca",
   "metadata": {},
   "outputs": [
    {
     "data": {
      "text/plain": [
       "5"
      ]
     },
     "execution_count": 11,
     "metadata": {},
     "output_type": "execute_result"
    }
   ],
   "source": [
    "len(my_list[1:][1])"
   ]
  },
  {
   "cell_type": "code",
   "execution_count": 12,
   "id": "a92c12c5",
   "metadata": {},
   "outputs": [
    {
     "data": {
      "text/plain": [
       "['hello', ['shreyas', 23], 'hi', 'DAPS']"
      ]
     },
     "execution_count": 12,
     "metadata": {},
     "output_type": "execute_result"
    }
   ],
   "source": [
    "x = ['hello',['shreyas',23],'hi','DAPS']\n",
    "x"
   ]
  },
  {
   "cell_type": "code",
   "execution_count": 13,
   "id": "18388c1a",
   "metadata": {},
   "outputs": [
    {
     "data": {
      "text/plain": [
       "7"
      ]
     },
     "execution_count": 13,
     "metadata": {},
     "output_type": "execute_result"
    }
   ],
   "source": [
    "len(x[1][0])"
   ]
  },
  {
   "cell_type": "code",
   "execution_count": 14,
   "id": "7669f74c",
   "metadata": {},
   "outputs": [
    {
     "data": {
      "text/plain": [
       "'shrey'"
      ]
     },
     "execution_count": 14,
     "metadata": {},
     "output_type": "execute_result"
    }
   ],
   "source": [
    "x[1][0][:-2]"
   ]
  },
  {
   "cell_type": "code",
   "execution_count": 15,
   "id": "8878a7e7",
   "metadata": {},
   "outputs": [],
   "source": [
    "#reassignment\n",
    "my_list = my_list + ['add new item to my_list',23,21.65]"
   ]
  },
  {
   "cell_type": "code",
   "execution_count": 16,
   "id": "d8c46414",
   "metadata": {},
   "outputs": [
    {
     "data": {
      "text/plain": [
       "['one', 'two', 'three', 6.5, 23, 'add new item to my_list', 23, 21.65]"
      ]
     },
     "execution_count": 16,
     "metadata": {},
     "output_type": "execute_result"
    }
   ],
   "source": [
    "my_list"
   ]
  },
  {
   "cell_type": "code",
   "execution_count": 17,
   "id": "989abb01",
   "metadata": {},
   "outputs": [
    {
     "data": {
      "text/plain": [
       "['one',\n",
       " 'two',\n",
       " 'three',\n",
       " 6.5,\n",
       " 23,\n",
       " 'add new item to my_list',\n",
       " 23,\n",
       " 21.65,\n",
       " 'one',\n",
       " 'two',\n",
       " 'three',\n",
       " 6.5,\n",
       " 23,\n",
       " 'add new item to my_list',\n",
       " 23,\n",
       " 21.65,\n",
       " 'one',\n",
       " 'two',\n",
       " 'three',\n",
       " 6.5,\n",
       " 23,\n",
       " 'add new item to my_list',\n",
       " 23,\n",
       " 21.65]"
      ]
     },
     "execution_count": 17,
     "metadata": {},
     "output_type": "execute_result"
    }
   ],
   "source": [
    "my_list*3"
   ]
  },
  {
   "cell_type": "code",
   "execution_count": 18,
   "id": "3f709996",
   "metadata": {},
   "outputs": [
    {
     "data": {
      "text/plain": [
       "['one', 'two', 'three', 6.5, 23, 'add new item to my_list', 23, 21.65]"
      ]
     },
     "execution_count": 18,
     "metadata": {},
     "output_type": "execute_result"
    }
   ],
   "source": [
    "my_list"
   ]
  },
  {
   "cell_type": "markdown",
   "id": "6533f8af",
   "metadata": {},
   "source": [
    "#### Basic List Methods"
   ]
  },
  {
   "cell_type": "code",
   "execution_count": 19,
   "id": "d73bfb9a",
   "metadata": {},
   "outputs": [],
   "source": [
    "lst = [1,2,3]"
   ]
  },
  {
   "cell_type": "code",
   "execution_count": 20,
   "id": "5aa9163a",
   "metadata": {},
   "outputs": [],
   "source": [
    "#append method\n",
    "lst.append('appended item')"
   ]
  },
  {
   "cell_type": "code",
   "execution_count": 21,
   "id": "f2783b9b",
   "metadata": {},
   "outputs": [
    {
     "data": {
      "text/plain": [
       "[1, 2, 3, 'appended item']"
      ]
     },
     "execution_count": 21,
     "metadata": {},
     "output_type": "execute_result"
    }
   ],
   "source": [
    "lst"
   ]
  },
  {
   "cell_type": "code",
   "execution_count": 22,
   "id": "5c27fbf5",
   "metadata": {},
   "outputs": [
    {
     "data": {
      "text/plain": [
       "'appended item'"
      ]
     },
     "execution_count": 22,
     "metadata": {},
     "output_type": "execute_result"
    }
   ],
   "source": [
    "#pop\n",
    "lst.pop()"
   ]
  },
  {
   "cell_type": "code",
   "execution_count": 23,
   "id": "42d7f3c1",
   "metadata": {},
   "outputs": [],
   "source": [
    "a = lst.pop(1)"
   ]
  },
  {
   "cell_type": "code",
   "execution_count": 24,
   "id": "57330333",
   "metadata": {},
   "outputs": [
    {
     "data": {
      "text/plain": [
       "[1, 3]"
      ]
     },
     "execution_count": 24,
     "metadata": {},
     "output_type": "execute_result"
    }
   ],
   "source": [
    "lst"
   ]
  },
  {
   "cell_type": "code",
   "execution_count": 25,
   "id": "8d5791bf",
   "metadata": {},
   "outputs": [],
   "source": [
    "tio = lst.append('appended item')"
   ]
  },
  {
   "cell_type": "code",
   "execution_count": 26,
   "id": "f968c3e9",
   "metadata": {},
   "outputs": [
    {
     "data": {
      "text/plain": [
       "NoneType"
      ]
     },
     "execution_count": 26,
     "metadata": {},
     "output_type": "execute_result"
    }
   ],
   "source": [
    "type(tio)"
   ]
  },
  {
   "cell_type": "code",
   "execution_count": 27,
   "id": "3abd7776",
   "metadata": {},
   "outputs": [
    {
     "data": {
      "text/plain": [
       "'appended item'"
      ]
     },
     "execution_count": 27,
     "metadata": {},
     "output_type": "execute_result"
    }
   ],
   "source": [
    "lst.pop()"
   ]
  },
  {
   "cell_type": "code",
   "execution_count": 28,
   "id": "30a05fb9",
   "metadata": {},
   "outputs": [
    {
     "data": {
      "text/plain": [
       "[1, 3]"
      ]
     },
     "execution_count": 28,
     "metadata": {},
     "output_type": "execute_result"
    }
   ],
   "source": [
    "lst"
   ]
  },
  {
   "cell_type": "code",
   "execution_count": 29,
   "id": "766cb300",
   "metadata": {},
   "outputs": [
    {
     "ename": "IndexError",
     "evalue": "list index out of range",
     "output_type": "error",
     "traceback": [
      "\u001b[0;31m---------------------------------------------------------------------------\u001b[0m",
      "\u001b[0;31mIndexError\u001b[0m                                Traceback (most recent call last)",
      "Cell \u001b[0;32mIn[29], line 1\u001b[0m\n\u001b[0;32m----> 1\u001b[0m lst[\u001b[38;5;241m5\u001b[39m]\n",
      "\u001b[0;31mIndexError\u001b[0m: list index out of range"
     ]
    }
   ],
   "source": [
    "lst[5]"
   ]
  },
  {
   "cell_type": "code",
   "execution_count": 30,
   "id": "54289318",
   "metadata": {},
   "outputs": [
    {
     "data": {
      "text/plain": [
       "['a', 'e', 'i', 'o', 'u']"
      ]
     },
     "execution_count": 30,
     "metadata": {},
     "output_type": "execute_result"
    }
   ],
   "source": [
    "new_list = ['a','e','i','o','u']\n",
    "new_list"
   ]
  },
  {
   "cell_type": "code",
   "execution_count": 31,
   "id": "03408902",
   "metadata": {},
   "outputs": [],
   "source": [
    "new_list.reverse()"
   ]
  },
  {
   "cell_type": "code",
   "execution_count": 32,
   "id": "a3abc2a7",
   "metadata": {},
   "outputs": [
    {
     "data": {
      "text/plain": [
       "['u', 'o', 'i', 'e', 'a']"
      ]
     },
     "execution_count": 32,
     "metadata": {},
     "output_type": "execute_result"
    }
   ],
   "source": [
    "new_list"
   ]
  },
  {
   "cell_type": "code",
   "execution_count": 33,
   "id": "1b647f1d",
   "metadata": {},
   "outputs": [],
   "source": [
    "new_list.sort()"
   ]
  },
  {
   "cell_type": "code",
   "execution_count": 34,
   "id": "8f53341a",
   "metadata": {},
   "outputs": [
    {
     "data": {
      "text/plain": [
       "['a', 'e', 'i', 'o', 'u']"
      ]
     },
     "execution_count": 34,
     "metadata": {},
     "output_type": "execute_result"
    }
   ],
   "source": [
    "new_list"
   ]
  },
  {
   "cell_type": "code",
   "execution_count": 35,
   "id": "85ea1686",
   "metadata": {},
   "outputs": [],
   "source": [
    "num = [3,2,1,0,43,123,21,76]\n",
    "num.sort()"
   ]
  },
  {
   "cell_type": "code",
   "execution_count": 36,
   "id": "98df7258",
   "metadata": {},
   "outputs": [
    {
     "data": {
      "text/plain": [
       "[0, 1, 2, 3, 21, 43, 76, 123]"
      ]
     },
     "execution_count": 36,
     "metadata": {},
     "output_type": "execute_result"
    }
   ],
   "source": [
    "num"
   ]
  },
  {
   "cell_type": "code",
   "execution_count": 37,
   "id": "e31cd646",
   "metadata": {},
   "outputs": [],
   "source": [
    "num.reverse()"
   ]
  },
  {
   "cell_type": "code",
   "execution_count": 38,
   "id": "0775eb85",
   "metadata": {},
   "outputs": [
    {
     "data": {
      "text/plain": [
       "[123, 76, 43, 21, 3, 2, 1, 0]"
      ]
     },
     "execution_count": 38,
     "metadata": {},
     "output_type": "execute_result"
    }
   ],
   "source": [
    "num"
   ]
  },
  {
   "cell_type": "code",
   "execution_count": 39,
   "id": "9eb13c9b",
   "metadata": {},
   "outputs": [],
   "source": [
    "stack = [3, 4, 5]\n",
    "stack.append(6)"
   ]
  },
  {
   "cell_type": "code",
   "execution_count": 40,
   "id": "9307ef67",
   "metadata": {},
   "outputs": [
    {
     "data": {
      "text/plain": [
       "[3, 4, 5, 6]"
      ]
     },
     "execution_count": 40,
     "metadata": {},
     "output_type": "execute_result"
    }
   ],
   "source": [
    "stack"
   ]
  },
  {
   "cell_type": "code",
   "execution_count": 41,
   "id": "f6991f7a",
   "metadata": {},
   "outputs": [],
   "source": [
    "stack.extend([7,8])"
   ]
  },
  {
   "cell_type": "code",
   "execution_count": 42,
   "id": "4ede2f47",
   "metadata": {},
   "outputs": [
    {
     "data": {
      "text/plain": [
       "[3, 4, 5, 6, 7, 8]"
      ]
     },
     "execution_count": 42,
     "metadata": {},
     "output_type": "execute_result"
    }
   ],
   "source": [
    "stack"
   ]
  },
  {
   "cell_type": "code",
   "execution_count": 43,
   "id": "cb4ddb66",
   "metadata": {},
   "outputs": [],
   "source": [
    "stack.append([7,8])"
   ]
  },
  {
   "cell_type": "code",
   "execution_count": 44,
   "id": "c19c273d",
   "metadata": {},
   "outputs": [
    {
     "data": {
      "text/plain": [
       "[3, 4, 5, 6, 7, 8, [7, 8]]"
      ]
     },
     "execution_count": 44,
     "metadata": {},
     "output_type": "execute_result"
    }
   ],
   "source": [
    "stack"
   ]
  },
  {
   "cell_type": "markdown",
   "id": "0e4b2088",
   "metadata": {},
   "source": [
    "### Nested Lists"
   ]
  },
  {
   "cell_type": "code",
   "execution_count": 45,
   "id": "792d6515",
   "metadata": {},
   "outputs": [
    {
     "data": {
      "text/plain": [
       "[[1, 2, 3], [4, 5, 6], [7, 8, 9]]"
      ]
     },
     "execution_count": 45,
     "metadata": {},
     "output_type": "execute_result"
    }
   ],
   "source": [
    "lst1 = [1,2,3]\n",
    "lst2 = [4,5,6]\n",
    "lst3 = [7,8,9]\n",
    "\n",
    "matrix = [lst1,lst2,lst3]\n",
    "matrix"
   ]
  },
  {
   "cell_type": "code",
   "execution_count": 46,
   "id": "e58a29fc",
   "metadata": {},
   "outputs": [
    {
     "data": {
      "text/plain": [
       "list"
      ]
     },
     "execution_count": 46,
     "metadata": {},
     "output_type": "execute_result"
    }
   ],
   "source": [
    "type(matrix[0])"
   ]
  },
  {
   "cell_type": "code",
   "execution_count": 47,
   "id": "8d80b87d",
   "metadata": {},
   "outputs": [
    {
     "data": {
      "text/plain": [
       "int"
      ]
     },
     "execution_count": 47,
     "metadata": {},
     "output_type": "execute_result"
    }
   ],
   "source": [
    "type(matrix[0][1])"
   ]
  },
  {
   "cell_type": "code",
   "execution_count": 48,
   "id": "958c6092",
   "metadata": {},
   "outputs": [
    {
     "data": {
      "text/plain": [
       "2"
      ]
     },
     "execution_count": 48,
     "metadata": {},
     "output_type": "execute_result"
    }
   ],
   "source": [
    "matrix[0][1]"
   ]
  },
  {
   "cell_type": "code",
   "execution_count": 49,
   "id": "d43aed08",
   "metadata": {},
   "outputs": [],
   "source": [
    "y = matrix[1][1:]#.append(11)"
   ]
  },
  {
   "cell_type": "code",
   "execution_count": 50,
   "id": "45f03847",
   "metadata": {},
   "outputs": [
    {
     "data": {
      "text/plain": [
       "[[1, 2, 3], [4, 5, 6], [7, 8, 9]]"
      ]
     },
     "execution_count": 50,
     "metadata": {},
     "output_type": "execute_result"
    }
   ],
   "source": [
    "matrix"
   ]
  },
  {
   "cell_type": "code",
   "execution_count": 51,
   "id": "858cb5f6",
   "metadata": {},
   "outputs": [],
   "source": [
    "y.append(11)"
   ]
  },
  {
   "cell_type": "code",
   "execution_count": 52,
   "id": "b8017274",
   "metadata": {},
   "outputs": [
    {
     "data": {
      "text/plain": [
       "[5, 6, 11]"
      ]
     },
     "execution_count": 52,
     "metadata": {},
     "output_type": "execute_result"
    }
   ],
   "source": [
    "y"
   ]
  },
  {
   "cell_type": "code",
   "execution_count": 53,
   "id": "10987a65",
   "metadata": {},
   "outputs": [
    {
     "data": {
      "text/plain": [
       "[[1, 2, 3], [4, 5, 6], [7, 8, 9]]"
      ]
     },
     "execution_count": 53,
     "metadata": {},
     "output_type": "execute_result"
    }
   ],
   "source": [
    "matrix"
   ]
  },
  {
   "cell_type": "code",
   "execution_count": 54,
   "id": "9457fd64",
   "metadata": {},
   "outputs": [
    {
     "data": {
      "text/plain": [
       "[1, 2, 3]"
      ]
     },
     "execution_count": 54,
     "metadata": {},
     "output_type": "execute_result"
    }
   ],
   "source": [
    "x = [1,2,3]\n",
    "x"
   ]
  },
  {
   "cell_type": "code",
   "execution_count": 55,
   "id": "9c2da075",
   "metadata": {},
   "outputs": [],
   "source": [
    "x[0] = 'Hi'"
   ]
  },
  {
   "cell_type": "code",
   "execution_count": 56,
   "id": "8c73f1ad",
   "metadata": {},
   "outputs": [
    {
     "data": {
      "text/plain": [
       "['Hi', 2, 3]"
      ]
     },
     "execution_count": 56,
     "metadata": {},
     "output_type": "execute_result"
    }
   ],
   "source": [
    "x"
   ]
  },
  {
   "cell_type": "code",
   "execution_count": 57,
   "id": "c2d11fd7",
   "metadata": {},
   "outputs": [],
   "source": [
    "x[1] = [[12,13,'hello',[23,45]]]"
   ]
  },
  {
   "cell_type": "code",
   "execution_count": 58,
   "id": "82372741",
   "metadata": {},
   "outputs": [
    {
     "data": {
      "text/plain": [
       "['Hi', [[12, 13, 'hello', [23, 45]]], 3]"
      ]
     },
     "execution_count": 58,
     "metadata": {},
     "output_type": "execute_result"
    }
   ],
   "source": [
    "x"
   ]
  },
  {
   "cell_type": "code",
   "execution_count": 59,
   "id": "e395057b",
   "metadata": {},
   "outputs": [],
   "source": [
    "x[1][0][2] = 'Hello everyone'"
   ]
  },
  {
   "cell_type": "code",
   "execution_count": 60,
   "id": "7e3d3c8b",
   "metadata": {},
   "outputs": [
    {
     "data": {
      "text/plain": [
       "['Hi', [[12, 13, 'Hello everyone', [23, 45]]], 3]"
      ]
     },
     "execution_count": 60,
     "metadata": {},
     "output_type": "execute_result"
    }
   ],
   "source": [
    "x"
   ]
  },
  {
   "cell_type": "code",
   "execution_count": 61,
   "id": "07cc163b",
   "metadata": {},
   "outputs": [
    {
     "data": {
      "text/plain": [
       "['27', ['Today', ['is']], ['2026', 'July']]"
      ]
     },
     "execution_count": 61,
     "metadata": {},
     "output_type": "execute_result"
    }
   ],
   "source": [
    "my_lst = ['27', ['Today',['is']], ['2026','July'] ]\n",
    "my_lst"
   ]
  },
  {
   "cell_type": "code",
   "execution_count": 62,
   "id": "567539cd",
   "metadata": {},
   "outputs": [
    {
     "data": {
      "text/plain": [
       "'Today is 27 July 2024'"
      ]
     },
     "execution_count": 62,
     "metadata": {},
     "output_type": "execute_result"
    }
   ],
   "source": [
    "'Today is 27 July 2024'"
   ]
  },
  {
   "cell_type": "code",
   "execution_count": 63,
   "id": "1031c15f",
   "metadata": {},
   "outputs": [],
   "source": [
    "#replace '2026' by '2024' in my_lst\n",
    "\n",
    "#grab 'Today' + 'is' + \n",
    "\n",
    "my_lst[-1][0] = '2024'"
   ]
  },
  {
   "cell_type": "code",
   "execution_count": 64,
   "id": "bd7c8579",
   "metadata": {},
   "outputs": [
    {
     "data": {
      "text/plain": [
       "'July'"
      ]
     },
     "execution_count": 64,
     "metadata": {},
     "output_type": "execute_result"
    }
   ],
   "source": [
    "my_lst[-1][-1]"
   ]
  },
  {
   "cell_type": "code",
   "execution_count": 65,
   "id": "dcae92d3",
   "metadata": {},
   "outputs": [
    {
     "name": "stdout",
     "output_type": "stream",
     "text": [
      "Today is 27 July 2024\n"
     ]
    }
   ],
   "source": [
    "print(my_lst[1][0] + ' ' + my_lst[1][-1][0] + ' ' + my_lst[0] +' ' + my_lst[-1][-1] +' ' + my_lst[-1][0])"
   ]
  },
  {
   "cell_type": "code",
   "execution_count": 78,
   "id": "d6b6d6d2",
   "metadata": {},
   "outputs": [],
   "source": [
    "prac_list = [12.3,[45.6,['hello at IIT Roorkee']], '45', 98, 'iHUB', ['Steve Jobs '], 'works', 32]"
   ]
  },
  {
   "cell_type": "markdown",
   "id": "cf9f574e",
   "metadata": {},
   "source": [
    "1. 12.3 + 98\n",
    "2. 'Steve Jobs works at iHUB'\n",
    "3. replace 32 by your name\n",
    "4. 'hello Shreyas(your name)'\n",
    "    "
   ]
  },
  {
   "cell_type": "code",
   "execution_count": 79,
   "id": "46c50827",
   "metadata": {},
   "outputs": [
    {
     "data": {
      "text/plain": [
       "110.3"
      ]
     },
     "execution_count": 79,
     "metadata": {},
     "output_type": "execute_result"
    }
   ],
   "source": [
    "prac_list[3]+prac_list[0]"
   ]
  },
  {
   "cell_type": "code",
   "execution_count": 86,
   "id": "4b63833d",
   "metadata": {},
   "outputs": [
    {
     "data": {
      "text/plain": [
       "'Steve Jobs works at iHUB'"
      ]
     },
     "execution_count": 86,
     "metadata": {},
     "output_type": "execute_result"
    }
   ],
   "source": [
    "#2\n",
    "prac_list[-3][0] + prac_list[-2]+prac_list[1][1][0][5:9]+prac_list[-4]"
   ]
  },
  {
   "cell_type": "code",
   "execution_count": 90,
   "id": "e6c85e99",
   "metadata": {},
   "outputs": [
    {
     "data": {
      "text/plain": [
       "[12.3,\n",
       " [45.6, ['hello at IIT Roorkee']],\n",
       " '45',\n",
       " 98,\n",
       " 'iHUB',\n",
       " ['Steve Jobs '],\n",
       " 'works',\n",
       " 'Shreyas']"
      ]
     },
     "execution_count": 90,
     "metadata": {},
     "output_type": "execute_result"
    }
   ],
   "source": [
    "#3\n",
    "prac_list[-1] = 'Shreyas'\n",
    "prac_list"
   ]
  },
  {
   "cell_type": "code",
   "execution_count": 95,
   "id": "84d0e791",
   "metadata": {},
   "outputs": [
    {
     "data": {
      "text/plain": [
       "'Hello Shreyas'"
      ]
     },
     "execution_count": 95,
     "metadata": {},
     "output_type": "execute_result"
    }
   ],
   "source": [
    "#4\n",
    "prac_list[1][1][0][:6].capitalize() + prac_list[-1]"
   ]
  },
  {
   "cell_type": "code",
   "execution_count": 67,
   "id": "44f05cd3",
   "metadata": {},
   "outputs": [],
   "source": [
    "prac_list2 = [[98,[34.8,['hello world']],'Elon ',[['Musk'],'Shreyas']], 'controls', 404, 747]"
   ]
  },
  {
   "cell_type": "markdown",
   "id": "d113249b",
   "metadata": {},
   "source": [
    "1. 'HELLO Elon Musk'\n",
    "2. do a division of any two numbers from prac_list2 and mulitply it with addition the other two numbers\n",
    "3. replace 'Shreyas' with 'everyone'\n",
    "4. 'Elon Musk controls everyone'\n"
   ]
  },
  {
   "cell_type": "code",
   "execution_count": 113,
   "id": "3d6b6923",
   "metadata": {},
   "outputs": [
    {
     "data": {
      "text/plain": [
       "'HELLO Elon Musk'"
      ]
     },
     "execution_count": 113,
     "metadata": {},
     "output_type": "execute_result"
    }
   ],
   "source": [
    "#1\n",
    "prac_list2[0][1][1][0][0:6].upper()+prac_list2[0][2]+prac_list2[0][-1][0][0]"
   ]
  },
  {
   "cell_type": "code",
   "execution_count": 122,
   "id": "b387b615",
   "metadata": {},
   "outputs": [
    {
     "data": {
      "text/plain": [
       "245.54851485148518"
      ]
     },
     "execution_count": 122,
     "metadata": {},
     "output_type": "execute_result"
    }
   ],
   "source": [
    "#3\n",
    "(prac_list2[0][0]+prac_list2[0][1][0])*(prac_list2[-1]/prac_list2[-2])"
   ]
  },
  {
   "cell_type": "code",
   "execution_count": 130,
   "id": "52bb2248",
   "metadata": {},
   "outputs": [],
   "source": [
    "prac_list2[0][-1][-1] = ' everyone'"
   ]
  },
  {
   "cell_type": "code",
   "execution_count": 137,
   "id": "281b7345",
   "metadata": {},
   "outputs": [
    {
     "data": {
      "text/plain": [
       "'Elon Musk controls everyone'"
      ]
     },
     "execution_count": 137,
     "metadata": {},
     "output_type": "execute_result"
    }
   ],
   "source": [
    "#4\n",
    "prac_list2[0][2]+prac_list2[0][-1][0][0]+' '+prac_list2[-3]+prac_list2[0][-1][-1]"
   ]
  },
  {
   "cell_type": "code",
   "execution_count": null,
   "id": "cc2df811",
   "metadata": {},
   "outputs": [],
   "source": []
  }
 ],
 "metadata": {
  "kernelspec": {
   "display_name": "Python 3 (ipykernel)",
   "language": "python",
   "name": "python3"
  },
  "language_info": {
   "codemirror_mode": {
    "name": "ipython",
    "version": 3
   },
   "file_extension": ".py",
   "mimetype": "text/x-python",
   "name": "python",
   "nbconvert_exporter": "python",
   "pygments_lexer": "ipython3",
   "version": "3.11.5"
  }
 },
 "nbformat": 4,
 "nbformat_minor": 5
}
