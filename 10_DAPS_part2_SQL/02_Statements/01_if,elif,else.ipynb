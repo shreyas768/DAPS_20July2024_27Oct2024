{
 "cells": [
  {
   "cell_type": "code",
   "execution_count": 1,
   "id": "442d9915",
   "metadata": {},
   "outputs": [
    {
     "name": "stdout",
     "output_type": "stream",
     "text": [
      "hey this is true\n"
     ]
    }
   ],
   "source": [
    "if 2>1:\n",
    "    print('hey this is true')"
   ]
  },
  {
   "cell_type": "code",
   "execution_count": 2,
   "id": "67c52a79",
   "metadata": {},
   "outputs": [],
   "source": [
    "if 2<1:\n",
    "    print('hey this is true')"
   ]
  },
  {
   "cell_type": "code",
   "execution_count": 3,
   "id": "fb020e30",
   "metadata": {},
   "outputs": [
    {
     "name": "stdout",
     "output_type": "stream",
     "text": [
      "thats false\n"
     ]
    }
   ],
   "source": [
    "if 2<1:\n",
    "    print('hey this is true')\n",
    "else:\n",
    "    print('thats false')"
   ]
  },
  {
   "cell_type": "code",
   "execution_count": 14,
   "id": "4c0016d0",
   "metadata": {},
   "outputs": [
    {
     "name": "stdout",
     "output_type": "stream",
     "text": [
      "Enter your number:2\n"
     ]
    }
   ],
   "source": []
  },
  {
   "cell_type": "code",
   "execution_count": 16,
   "id": "f0542b83",
   "metadata": {},
   "outputs": [
    {
     "name": "stdout",
     "output_type": "stream",
     "text": [
      "Enter your number:1\n",
      "I don't know what's happening here !!\n"
     ]
    }
   ],
   "source": [
    "\n",
    "x = int(input('Enter your number:'))\n",
    "if x>2:\n",
    "    print('this value is greater than 2')\n",
    "elif x == 2:\n",
    "    print('this is equal to 2')\n",
    "else:\n",
    "    print(\"I don't know what's happening here !!\")"
   ]
  },
  {
   "cell_type": "code",
   "execution_count": 39,
   "id": "cbae2124",
   "metadata": {},
   "outputs": [
    {
     "name": "stdout",
     "output_type": "stream",
     "text": [
      "What is your course name?\n",
      "auto shop\n"
     ]
    }
   ],
   "source": [
    "x = input('What is your course name?\\n')"
   ]
  },
  {
   "cell_type": "code",
   "execution_count": 38,
   "id": "8fdb1cf8",
   "metadata": {},
   "outputs": [
    {
     "data": {
      "text/plain": [
       "'RAM'"
      ]
     },
     "execution_count": 38,
     "metadata": {},
     "output_type": "execute_result"
    }
   ],
   "source": [
    "x"
   ]
  },
  {
   "cell_type": "code",
   "execution_count": 34,
   "id": "016dd536",
   "metadata": {},
   "outputs": [
    {
     "data": {
      "text/plain": [
       "3"
      ]
     },
     "execution_count": 34,
     "metadata": {},
     "output_type": "execute_result"
    }
   ],
   "source": [
    "len(x)"
   ]
  },
  {
   "cell_type": "code",
   "execution_count": 35,
   "id": "3d24e218",
   "metadata": {},
   "outputs": [
    {
     "name": "stdout",
     "output_type": "stream",
     "text": [
      "What have you done?\n"
     ]
    }
   ],
   "source": [
    "if len(x) == 4:\n",
    "    print('length of given string is 4')\n",
    "elif len(x) > 4:\n",
    "    print('length of given string is more than 4')\n",
    "else:\n",
    "    print('What have you done?')"
   ]
  },
  {
   "cell_type": "code",
   "execution_count": 37,
   "id": "6e1776f5",
   "metadata": {},
   "outputs": [
    {
     "name": "stdout",
     "output_type": "stream",
     "text": [
      "I am ram\n"
     ]
    }
   ],
   "source": [
    "if x.lower() == 'ram':\n",
    "    print('I am ram')\n",
    "elif x.lower() == 'shyam':\n",
    "    print('I am shyam')\n",
    "else:\n",
    "    print('What have you done?')"
   ]
  },
  {
   "cell_type": "markdown",
   "id": "a299e4ec",
   "metadata": {},
   "source": [
    "if my location is 'Auto Shop' print ('Welcome to Autoshop')\n",
    "if my location is 'Bank' print ('Welcome to Bank')\n",
    "else length of your string\n",
    "\n",
    "\n",
    "the input string should be lower case"
   ]
  },
  {
   "cell_type": "code",
   "execution_count": 40,
   "id": "b03d0c46",
   "metadata": {},
   "outputs": [
    {
     "data": {
      "text/plain": [
       "'Auto Shop'"
      ]
     },
     "execution_count": 40,
     "metadata": {},
     "output_type": "execute_result"
    }
   ],
   "source": [
    "'auto shop'.title()"
   ]
  },
  {
   "cell_type": "code",
   "execution_count": null,
   "id": "23087e7c",
   "metadata": {},
   "outputs": [],
   "source": []
  },
  {
   "cell_type": "code",
   "execution_count": 55,
   "id": "d24b8949",
   "metadata": {},
   "outputs": [
    {
     "name": "stdout",
     "output_type": "stream",
     "text": [
      "Your Location?\n",
      "kjasdhaskld\n",
      "Length of the string is:  11\n"
     ]
    }
   ],
   "source": [
    "x = input('Your Location?\\n')\n",
    "\n",
    "if x.lower() == 'auto shop':\n",
    "    print('Welcome to Autoshop')\n",
    "elif x.title() == 'Bank':\n",
    "    print(('Welcome to Bank'))\n",
    "else:\n",
    "    print('Length of the string is: ',len(x))"
   ]
  },
  {
   "cell_type": "code",
   "execution_count": 51,
   "id": "0fc70953",
   "metadata": {},
   "outputs": [
    {
     "data": {
      "text/plain": [
       "'gkjdsakjas'"
      ]
     },
     "execution_count": 51,
     "metadata": {},
     "output_type": "execute_result"
    }
   ],
   "source": [
    "x"
   ]
  },
  {
   "cell_type": "code",
   "execution_count": 53,
   "id": "5a090da2",
   "metadata": {},
   "outputs": [
    {
     "data": {
      "text/plain": [
       "10"
      ]
     },
     "execution_count": 53,
     "metadata": {},
     "output_type": "execute_result"
    }
   ],
   "source": []
  },
  {
   "cell_type": "code",
   "execution_count": null,
   "id": "d36ae5e2",
   "metadata": {},
   "outputs": [],
   "source": []
  }
 ],
 "metadata": {
  "kernelspec": {
   "display_name": "Python 3 (ipykernel)",
   "language": "python",
   "name": "python3"
  },
  "language_info": {
   "codemirror_mode": {
    "name": "ipython",
    "version": 3
   },
   "file_extension": ".py",
   "mimetype": "text/x-python",
   "name": "python",
   "nbconvert_exporter": "python",
   "pygments_lexer": "ipython3",
   "version": "3.11.5"
  }
 },
 "nbformat": 4,
 "nbformat_minor": 5
}
