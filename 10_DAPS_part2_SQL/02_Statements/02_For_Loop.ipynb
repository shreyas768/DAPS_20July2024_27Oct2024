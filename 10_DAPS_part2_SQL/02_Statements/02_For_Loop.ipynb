{
 "cells": [
  {
   "cell_type": "code",
   "execution_count": 1,
   "id": "be0bab30",
   "metadata": {},
   "outputs": [
    {
     "data": {
      "text/plain": [
       "[1, 2, 3, 4, 5, 6, 7, 8, 9, 10]"
      ]
     },
     "execution_count": 1,
     "metadata": {},
     "output_type": "execute_result"
    }
   ],
   "source": [
    "lst1 = [1,2,3,4,5,6,7,8,9,10]\n",
    "lst1"
   ]
  },
  {
   "cell_type": "code",
   "execution_count": 2,
   "id": "74bb53a3",
   "metadata": {},
   "outputs": [
    {
     "name": "stdout",
     "output_type": "stream",
     "text": [
      "1\n",
      "2\n",
      "3\n",
      "4\n",
      "5\n",
      "6\n",
      "7\n",
      "8\n",
      "9\n",
      "10\n"
     ]
    }
   ],
   "source": [
    "for shreyas in lst1:\n",
    "    print(shreyas)"
   ]
  },
  {
   "cell_type": "code",
   "execution_count": 3,
   "id": "384e732a",
   "metadata": {},
   "outputs": [
    {
     "data": {
      "text/plain": [
       "2"
      ]
     },
     "execution_count": 3,
     "metadata": {},
     "output_type": "execute_result"
    }
   ],
   "source": [
    "17%5"
   ]
  },
  {
   "cell_type": "code",
   "execution_count": 6,
   "id": "ca30e14d",
   "metadata": {},
   "outputs": [
    {
     "data": {
      "text/plain": [
       "1"
      ]
     },
     "execution_count": 6,
     "metadata": {},
     "output_type": "execute_result"
    }
   ],
   "source": [
    "13%2"
   ]
  },
  {
   "cell_type": "code",
   "execution_count": 9,
   "id": "c9aba1c6",
   "metadata": {},
   "outputs": [
    {
     "name": "stdout",
     "output_type": "stream",
     "text": [
      "2\n",
      "4\n",
      "6\n",
      "8\n",
      "10\n"
     ]
    }
   ],
   "source": [
    "for n in lst1:\n",
    "    if n%2 == 0:\n",
    "        print(n)"
   ]
  },
  {
   "cell_type": "code",
   "execution_count": 11,
   "id": "46faadb1",
   "metadata": {},
   "outputs": [
    {
     "name": "stdout",
     "output_type": "stream",
     "text": [
      "1 -->> This is Odd number\n",
      "2\n",
      "3 -->> This is Odd number\n",
      "4\n",
      "5 -->> This is Odd number\n",
      "6\n",
      "7 -->> This is Odd number\n",
      "8\n",
      "9 -->> This is Odd number\n",
      "10\n"
     ]
    }
   ],
   "source": [
    "for n in lst1:\n",
    "    if n%2 == 0:\n",
    "        print(n)\n",
    "    else:\n",
    "        print(n,'-->> This is Odd number')"
   ]
  },
  {
   "cell_type": "code",
   "execution_count": 12,
   "id": "4feecc18",
   "metadata": {},
   "outputs": [
    {
     "data": {
      "text/plain": [
       "[1, 2, 3, 4, 5, 6, 7, 8, 9, 10]"
      ]
     },
     "execution_count": 12,
     "metadata": {},
     "output_type": "execute_result"
    }
   ],
   "source": [
    "lst1"
   ]
  },
  {
   "cell_type": "code",
   "execution_count": 13,
   "id": "a2436b82",
   "metadata": {},
   "outputs": [
    {
     "name": "stdout",
     "output_type": "stream",
     "text": [
      "1\n",
      "3\n",
      "6\n",
      "10\n",
      "15\n",
      "21\n",
      "28\n",
      "36\n",
      "45\n",
      "55\n"
     ]
    }
   ],
   "source": [
    "lst_sm = 0\n",
    "\n",
    "for n in lst1:\n",
    "    lst_sm = lst_sm + n\n",
    "    print(lst_sm)"
   ]
  },
  {
   "cell_type": "code",
   "execution_count": 14,
   "id": "0f28591b",
   "metadata": {},
   "outputs": [
    {
     "name": "stdout",
     "output_type": "stream",
     "text": [
      "55\n"
     ]
    }
   ],
   "source": [
    "lst_sm = 0\n",
    "\n",
    "for n in lst1:\n",
    "    lst_sm = lst_sm + n\n",
    "print(lst_sm)"
   ]
  },
  {
   "cell_type": "code",
   "execution_count": 17,
   "id": "92999f34",
   "metadata": {},
   "outputs": [
    {
     "name": "stdout",
     "output_type": "stream",
     "text": [
      "14\n",
      "7\n",
      "5\n"
     ]
    }
   ],
   "source": [
    "for letter in ['This is string','Shreyas','Hello']:\n",
    "    print(len(letter))"
   ]
  },
  {
   "cell_type": "code",
   "execution_count": 26,
   "id": "08780336",
   "metadata": {},
   "outputs": [
    {
     "name": "stdout",
     "output_type": "stream",
     "text": [
      "7\n",
      "7\n",
      "7\n",
      "7\n",
      "7\n"
     ]
    }
   ],
   "source": [
    "for letter in 'Hello':\n",
    "    print(len('Shreyas'))"
   ]
  },
  {
   "cell_type": "code",
   "execution_count": 20,
   "id": "796696ac",
   "metadata": {},
   "outputs": [
    {
     "name": "stdout",
     "output_type": "stream",
     "text": [
      "1\n",
      "8\n",
      "27\n",
      "64\n",
      "125\n"
     ]
    }
   ],
   "source": [
    "tup = (1,2,3,4,5)\n",
    "\n",
    "for t in tup:\n",
    "    print(t**3)"
   ]
  },
  {
   "cell_type": "code",
   "execution_count": 21,
   "id": "d4e7c6e7",
   "metadata": {},
   "outputs": [],
   "source": [
    "lst2 = [(2,4),(6,8),(10,12)]"
   ]
  },
  {
   "cell_type": "code",
   "execution_count": 22,
   "id": "5f3b83ee",
   "metadata": {},
   "outputs": [
    {
     "name": "stdout",
     "output_type": "stream",
     "text": [
      "(2, 4)\n",
      "(6, 8)\n",
      "(10, 12)\n"
     ]
    }
   ],
   "source": [
    "for t in lst2:\n",
    "    print(t)"
   ]
  },
  {
   "cell_type": "code",
   "execution_count": 23,
   "id": "1926c425",
   "metadata": {},
   "outputs": [
    {
     "name": "stdout",
     "output_type": "stream",
     "text": [
      "2\n",
      "6\n",
      "10\n"
     ]
    }
   ],
   "source": [
    "for t1,t2 in lst2:  #tuple unpacking\n",
    "    print(t1)"
   ]
  },
  {
   "cell_type": "code",
   "execution_count": 25,
   "id": "1aa542b6",
   "metadata": {},
   "outputs": [
    {
     "name": "stdout",
     "output_type": "stream",
     "text": [
      "8\n",
      "48\n",
      "120\n"
     ]
    }
   ],
   "source": [
    "for (t1,t2) in lst2:\n",
    "    print(t1*t2)"
   ]
  },
  {
   "cell_type": "code",
   "execution_count": 31,
   "id": "36aa423a",
   "metadata": {},
   "outputs": [
    {
     "name": "stdout",
     "output_type": "stream",
     "text": [
      "k11\n",
      "k2\n",
      "k31111\n"
     ]
    }
   ],
   "source": [
    "d = {'k11':1,'k2':2,'k31111':3}\n",
    "for i in d:\n",
    "    print(i)"
   ]
  },
  {
   "cell_type": "code",
   "execution_count": 45,
   "id": "b0e50ef1",
   "metadata": {},
   "outputs": [
    {
     "data": {
      "text/plain": [
       "dict_items([('k11', 1), ('k2', 2), ('k31111', 3)])"
      ]
     },
     "execution_count": 45,
     "metadata": {},
     "output_type": "execute_result"
    }
   ],
   "source": [
    "d.items()"
   ]
  },
  {
   "cell_type": "code",
   "execution_count": 34,
   "id": "257e6906",
   "metadata": {},
   "outputs": [
    {
     "name": "stdout",
     "output_type": "stream",
     "text": [
      "3\n",
      "4\n",
      "18\n"
     ]
    }
   ],
   "source": [
    "for k,v in d.items():\n",
    "    print(len(k)*v)"
   ]
  },
  {
   "cell_type": "code",
   "execution_count": 41,
   "id": "b379a1b1",
   "metadata": {},
   "outputs": [
    {
     "name": "stdout",
     "output_type": "stream",
     "text": [
      "3\n",
      "7\n",
      "25\n"
     ]
    }
   ],
   "source": [
    "x = 0\n",
    "for i,j in d.items():\n",
    "    x = len(i)*j + x\n",
    "    print(x)"
   ]
  },
  {
   "cell_type": "code",
   "execution_count": 43,
   "id": "12faa67f",
   "metadata": {},
   "outputs": [
    {
     "data": {
      "text/plain": [
       "['k11', 'k2', 'k31111']"
      ]
     },
     "execution_count": 43,
     "metadata": {},
     "output_type": "execute_result"
    }
   ],
   "source": [
    "list(d.keys())"
   ]
  },
  {
   "cell_type": "code",
   "execution_count": 46,
   "id": "4a66f247",
   "metadata": {},
   "outputs": [
    {
     "data": {
      "text/plain": [
       "dict_values([1, 2, 3])"
      ]
     },
     "execution_count": 46,
     "metadata": {},
     "output_type": "execute_result"
    }
   ],
   "source": [
    "d.values()"
   ]
  },
  {
   "cell_type": "code",
   "execution_count": 53,
   "id": "cc7fadd6",
   "metadata": {},
   "outputs": [],
   "source": [
    "st = 'Print every word in this sentence that has an even number of letters'\n",
    "\n",
    "#word --> has an even length !!\n",
    "#this --> has an even length !! "
   ]
  },
  {
   "cell_type": "code",
   "execution_count": 54,
   "id": "059b675d",
   "metadata": {},
   "outputs": [
    {
     "data": {
      "text/plain": [
       "['Print',\n",
       " 'every',\n",
       " 'word',\n",
       " 'in',\n",
       " 'this',\n",
       " 'sentence',\n",
       " 'that',\n",
       " 'has',\n",
       " 'an',\n",
       " 'even',\n",
       " 'number',\n",
       " 'of',\n",
       " 'letters']"
      ]
     },
     "execution_count": 54,
     "metadata": {},
     "output_type": "execute_result"
    }
   ],
   "source": [
    "st.split()"
   ]
  },
  {
   "cell_type": "code",
   "execution_count": 59,
   "id": "0e83d421",
   "metadata": {},
   "outputs": [
    {
     "name": "stdout",
     "output_type": "stream",
     "text": [
      "word --> this has an even length and the length is: 4\n",
      "in --> this has an even length and the length is: 2\n",
      "this --> this has an even length and the length is: 4\n",
      "sentence --> this has an even length and the length is: 8\n",
      "that --> this has an even length and the length is: 4\n",
      "an --> this has an even length and the length is: 2\n",
      "even --> this has an even length and the length is: 4\n",
      "number --> this has an even length and the length is: 6\n",
      "of --> this has an even length and the length is: 2\n"
     ]
    }
   ],
   "source": [
    "for w in st.split():\n",
    "    if len(w)%2 == 0:\n",
    "        print(w+' --> this has an even length and the length is:', len(w))"
   ]
  },
  {
   "cell_type": "markdown",
   "id": "376c516f",
   "metadata": {},
   "source": [
    "\n",
    "\n",
    "\n",
    "write a program that prints the integers from 1 to 100. But for multiples of 3, print 'Shreyas' (your name), for multiple of 5, print 'Machine Learning. For numbers which are multiple of both 3 and 5, print '27 August'"
   ]
  },
  {
   "cell_type": "code",
   "execution_count": 65,
   "id": "4f25c2f6",
   "metadata": {},
   "outputs": [
    {
     "name": "stdout",
     "output_type": "stream",
     "text": [
      "1\n",
      "2\n",
      "Shreyas\n",
      "4\n",
      "Machine Learning\n",
      "Shreyas\n",
      "7\n",
      "8\n",
      "Shreyas\n",
      "Machine Learning\n",
      "11\n",
      "Shreyas\n",
      "13\n",
      "14\n",
      "27 August\n",
      "16\n",
      "17\n",
      "Shreyas\n",
      "19\n",
      "Machine Learning\n",
      "Shreyas\n",
      "22\n",
      "23\n",
      "Shreyas\n",
      "Machine Learning\n",
      "26\n",
      "Shreyas\n",
      "28\n",
      "29\n",
      "27 August\n",
      "31\n",
      "32\n",
      "Shreyas\n",
      "34\n",
      "Machine Learning\n",
      "Shreyas\n",
      "37\n",
      "38\n",
      "Shreyas\n",
      "Machine Learning\n",
      "41\n",
      "Shreyas\n",
      "43\n",
      "44\n",
      "27 August\n",
      "46\n",
      "47\n",
      "Shreyas\n",
      "49\n",
      "Machine Learning\n",
      "Shreyas\n",
      "52\n",
      "53\n",
      "Shreyas\n",
      "Machine Learning\n",
      "56\n",
      "Shreyas\n",
      "58\n",
      "59\n",
      "27 August\n",
      "61\n",
      "62\n",
      "Shreyas\n",
      "64\n",
      "Machine Learning\n",
      "Shreyas\n",
      "67\n",
      "68\n",
      "Shreyas\n",
      "Machine Learning\n",
      "71\n",
      "Shreyas\n",
      "73\n",
      "74\n",
      "27 August\n",
      "76\n",
      "77\n",
      "Shreyas\n",
      "79\n",
      "Machine Learning\n",
      "Shreyas\n",
      "82\n",
      "83\n",
      "Shreyas\n",
      "Machine Learning\n",
      "86\n",
      "Shreyas\n",
      "88\n",
      "89\n",
      "27 August\n",
      "91\n",
      "92\n",
      "Shreyas\n",
      "94\n",
      "Machine Learning\n",
      "Shreyas\n",
      "97\n",
      "98\n",
      "Shreyas\n",
      "Machine Learning\n"
     ]
    }
   ],
   "source": [
    "for n in range(1,101):\n",
    "    if n%3 == 0 and n%5 ==0:\n",
    "        print('27 August')\n",
    "    elif n%3 == 0:\n",
    "        print('Shreyas')\n",
    "    elif n%5 == 0:\n",
    "        print('Machine Learning')\n",
    "    else:\n",
    "        print(n)"
   ]
  },
  {
   "cell_type": "code",
   "execution_count": 78,
   "id": "7bde709c",
   "metadata": {},
   "outputs": [],
   "source": [
    "st = 'create a list of first letters of every word in this string'"
   ]
  },
  {
   "cell_type": "code",
   "execution_count": 77,
   "id": "a11f4c97",
   "metadata": {},
   "outputs": [
    {
     "name": "stdout",
     "output_type": "stream",
     "text": [
      "['c', 'a', 'l', 'o', 'f', 'l', 'o', 'e', 'w', 'i', 't', 's']\n"
     ]
    }
   ],
   "source": [
    "lst5 = []\n",
    "for s in st.split():\n",
    "    lst5.append(s[0])\n",
    "print(lst5)\n",
    "  "
   ]
  },
  {
   "cell_type": "code",
   "execution_count": 75,
   "id": "55592bcc",
   "metadata": {},
   "outputs": [
    {
     "data": {
      "text/plain": [
       "['c', 'a', 'l', 'o', 'f', 'l', 'o', 'e', 'w', 'i', 't', 's']"
      ]
     },
     "execution_count": 75,
     "metadata": {},
     "output_type": "execute_result"
    }
   ],
   "source": [
    "lst5"
   ]
  },
  {
   "cell_type": "code",
   "execution_count": null,
   "id": "6ecdf1d5",
   "metadata": {},
   "outputs": [],
   "source": []
  }
 ],
 "metadata": {
  "kernelspec": {
   "display_name": "Python 3 (ipykernel)",
   "language": "python",
   "name": "python3"
  },
  "language_info": {
   "codemirror_mode": {
    "name": "ipython",
    "version": 3
   },
   "file_extension": ".py",
   "mimetype": "text/x-python",
   "name": "python",
   "nbconvert_exporter": "python",
   "pygments_lexer": "ipython3",
   "version": "3.11.5"
  }
 },
 "nbformat": 4,
 "nbformat_minor": 5
}
