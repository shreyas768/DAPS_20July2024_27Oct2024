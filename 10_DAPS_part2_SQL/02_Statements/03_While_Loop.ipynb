{
 "cells": [
  {
   "cell_type": "code",
   "execution_count": 4,
   "id": "c5d813ea",
   "metadata": {},
   "outputs": [
    {
     "name": "stdout",
     "output_type": "stream",
     "text": [
      "x is currently: 0\n",
      "x is still less than 10, adding 1 to x\n",
      "x is currently: 3\n",
      "x is still less than 10, adding 1 to x\n",
      "x is currently: 6\n",
      "x is still less than 10, adding 1 to x\n",
      "x is currently: 9\n",
      "x is still less than 10, adding 1 to x\n",
      "All Done !!\n"
     ]
    }
   ],
   "source": [
    "x = 0\n",
    "\n",
    "while x < 10:\n",
    "    print('x is currently:',x)\n",
    "    print('x is still less than 10, adding 1 to x')\n",
    "    x = x + 3\n",
    "else:\n",
    "    print('All Done !!')"
   ]
  },
  {
   "cell_type": "code",
   "execution_count": 12,
   "id": "1a7b2c51",
   "metadata": {},
   "outputs": [
    {
     "name": "stdout",
     "output_type": "stream",
     "text": [
      "x is currently: 0\n",
      "x is still less than 10, adding 1 to x\n",
      "continuing..\n",
      "x is currently: 1\n",
      "x is still less than 10, adding 1 to x\n",
      "continuing..\n",
      "x is currently: 2\n",
      "x is still less than 10, adding 1 to x\n",
      "Breaking because x==3\n"
     ]
    }
   ],
   "source": [
    "x = 0\n",
    "\n",
    "while x < 10:\n",
    "    print('x is currently:',x)\n",
    "    print('x is still less than 10, adding 1 to x')\n",
    "    x = x + 1\n",
    "    if x ==3:\n",
    "        print('Breaking because x==3')\n",
    "        break\n",
    "    else:\n",
    "        print('continuing..')\n",
    "        continue"
   ]
  },
  {
   "cell_type": "code",
   "execution_count": 11,
   "id": "5ebf4d95",
   "metadata": {},
   "outputs": [],
   "source": [
    "#pass-->> do nothing"
   ]
  },
  {
   "cell_type": "code",
   "execution_count": null,
   "id": "4a8c107b",
   "metadata": {},
   "outputs": [],
   "source": []
  }
 ],
 "metadata": {
  "kernelspec": {
   "display_name": "Python 3 (ipykernel)",
   "language": "python",
   "name": "python3"
  },
  "language_info": {
   "codemirror_mode": {
    "name": "ipython",
    "version": 3
   },
   "file_extension": ".py",
   "mimetype": "text/x-python",
   "name": "python",
   "nbconvert_exporter": "python",
   "pygments_lexer": "ipython3",
   "version": "3.11.5"
  }
 },
 "nbformat": 4,
 "nbformat_minor": 5
}
