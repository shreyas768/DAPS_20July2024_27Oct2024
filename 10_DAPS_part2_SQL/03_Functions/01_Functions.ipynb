{
 "cells": [
  {
   "cell_type": "code",
   "execution_count": 8,
   "id": "ccf1580b",
   "metadata": {},
   "outputs": [],
   "source": [
    "def name_of_function(arg1):\n",
    "    '''\n",
    "    when you call help() of your functions, this will get printed out\n",
    "\n",
    "    '''\n",
    "    \n",
    "    #do stuff here\n",
    "    #return desired result\n",
    "    return len(arg1)"
   ]
  },
  {
   "cell_type": "code",
   "execution_count": 5,
   "id": "8924b6fb",
   "metadata": {},
   "outputs": [
    {
     "name": "stdout",
     "output_type": "stream",
     "text": [
      "Help on function name_of_function in module __main__:\n",
      "\n",
      "name_of_function(arg1)\n",
      "    when you call help() of your functions, this will get printed out\n",
      "\n"
     ]
    }
   ],
   "source": [
    "help(name_of_function)"
   ]
  },
  {
   "cell_type": "code",
   "execution_count": 6,
   "id": "03460450",
   "metadata": {},
   "outputs": [
    {
     "data": {
      "text/plain": [
       "14"
      ]
     },
     "execution_count": 6,
     "metadata": {},
     "output_type": "execute_result"
    }
   ],
   "source": [
    "name_of_function('lkdhdlksdfhlks')"
   ]
  },
  {
   "cell_type": "code",
   "execution_count": 9,
   "id": "afc9094e",
   "metadata": {},
   "outputs": [],
   "source": [
    "def say_hello():\n",
    "    print('hello')"
   ]
  },
  {
   "cell_type": "code",
   "execution_count": 10,
   "id": "72de99b8",
   "metadata": {},
   "outputs": [
    {
     "name": "stdout",
     "output_type": "stream",
     "text": [
      "hello\n"
     ]
    }
   ],
   "source": [
    "say_hello()"
   ]
  },
  {
   "cell_type": "code",
   "execution_count": 11,
   "id": "4639fed1",
   "metadata": {},
   "outputs": [
    {
     "data": {
      "text/plain": [
       "<function __main__.say_hello()>"
      ]
     },
     "execution_count": 11,
     "metadata": {},
     "output_type": "execute_result"
    }
   ],
   "source": [
    "say_hello"
   ]
  },
  {
   "cell_type": "code",
   "execution_count": 23,
   "id": "6fbb5a77",
   "metadata": {},
   "outputs": [],
   "source": [
    "#addition function\n",
    "\n",
    "def add_num(n1,n2):\n",
    "    return n1+n2"
   ]
  },
  {
   "cell_type": "code",
   "execution_count": 29,
   "id": "6e79a522",
   "metadata": {},
   "outputs": [],
   "source": [
    "res = add_num(2,1)"
   ]
  },
  {
   "cell_type": "code",
   "execution_count": 30,
   "id": "517ce17a",
   "metadata": {},
   "outputs": [
    {
     "data": {
      "text/plain": [
       "3"
      ]
     },
     "execution_count": 30,
     "metadata": {},
     "output_type": "execute_result"
    }
   ],
   "source": [
    "res"
   ]
  },
  {
   "cell_type": "code",
   "execution_count": 31,
   "id": "33efa1fa",
   "metadata": {},
   "outputs": [
    {
     "data": {
      "text/plain": [
       "int"
      ]
     },
     "execution_count": 31,
     "metadata": {},
     "output_type": "execute_result"
    }
   ],
   "source": [
    "type(res)"
   ]
  },
  {
   "cell_type": "code",
   "execution_count": 32,
   "id": "89c28eb0",
   "metadata": {},
   "outputs": [],
   "source": [
    "def check_even(n):\n",
    "    return n%2 == 0"
   ]
  },
  {
   "cell_type": "code",
   "execution_count": 34,
   "id": "f7181107",
   "metadata": {},
   "outputs": [
    {
     "data": {
      "text/plain": [
       "True"
      ]
     },
     "execution_count": 34,
     "metadata": {},
     "output_type": "execute_result"
    }
   ],
   "source": [
    "check_even(54676)"
   ]
  },
  {
   "cell_type": "code",
   "execution_count": 35,
   "id": "b058a969",
   "metadata": {},
   "outputs": [],
   "source": [
    "#return a boolean indicating if any number in a list is even\n",
    "\n",
    "def check_even_list(num_list):\n",
    "    for n in num_list:\n",
    "        if n%2==0:\n",
    "            return True"
   ]
  },
  {
   "cell_type": "code",
   "execution_count": 36,
   "id": "9ff40911",
   "metadata": {},
   "outputs": [
    {
     "data": {
      "text/plain": [
       "True"
      ]
     },
     "execution_count": 36,
     "metadata": {},
     "output_type": "execute_result"
    }
   ],
   "source": [
    "check_even_list([1,2,3])"
   ]
  },
  {
   "cell_type": "code",
   "execution_count": 37,
   "id": "13896706",
   "metadata": {},
   "outputs": [],
   "source": [
    "check_even_list([1,3,5])"
   ]
  },
  {
   "cell_type": "code",
   "execution_count": 38,
   "id": "83f1ff28",
   "metadata": {},
   "outputs": [],
   "source": [
    "#This is wrong\n",
    "def check_even_list(num_list):\n",
    "    for n in num_list:\n",
    "        if n%2==0:\n",
    "            return True\n",
    "        else: \n",
    "            return False"
   ]
  },
  {
   "cell_type": "code",
   "execution_count": 40,
   "id": "e5fb1921",
   "metadata": {},
   "outputs": [
    {
     "data": {
      "text/plain": [
       "False"
      ]
     },
     "execution_count": 40,
     "metadata": {},
     "output_type": "execute_result"
    }
   ],
   "source": [
    "check_even_list([1,2,3])"
   ]
  },
  {
   "cell_type": "code",
   "execution_count": 41,
   "id": "26539c68",
   "metadata": {},
   "outputs": [],
   "source": [
    "#This is correct\n",
    "def check_even_list(num_list):\n",
    "    for n in num_list:\n",
    "        if n%2==0:\n",
    "            return True\n",
    "        else:\n",
    "            pass\n",
    "    return False"
   ]
  },
  {
   "cell_type": "code",
   "execution_count": 43,
   "id": "785b7ff7",
   "metadata": {},
   "outputs": [
    {
     "data": {
      "text/plain": [
       "False"
      ]
     },
     "execution_count": 43,
     "metadata": {},
     "output_type": "execute_result"
    }
   ],
   "source": [
    "check_even_list([1,9,3])"
   ]
  },
  {
   "cell_type": "code",
   "execution_count": 44,
   "id": "413c7d58",
   "metadata": {},
   "outputs": [],
   "source": [
    "def check_even_list(num_list):\n",
    "    even_list = []\n",
    "    for n in num_list:\n",
    "        if n%2==0:\n",
    "            even_list.append(n)\n",
    "        else:\n",
    "            pass\n",
    "    return even_list"
   ]
  },
  {
   "cell_type": "code",
   "execution_count": 45,
   "id": "2775ee63",
   "metadata": {},
   "outputs": [
    {
     "data": {
      "text/plain": [
       "[2, 4, 6, 8]"
      ]
     },
     "execution_count": 45,
     "metadata": {},
     "output_type": "execute_result"
    }
   ],
   "source": [
    "check_even_list([1,2,3,4,5,6,7,8,9])"
   ]
  },
  {
   "cell_type": "code",
   "execution_count": 46,
   "id": "f9601b62",
   "metadata": {},
   "outputs": [],
   "source": [
    "def even_num(input_list):\n",
    "    return [num for num in input_list if num % 2 == 0]"
   ]
  },
  {
   "cell_type": "code",
   "execution_count": 47,
   "id": "0102df96",
   "metadata": {},
   "outputs": [
    {
     "data": {
      "text/plain": [
       "[2, 4, 6, 8]"
      ]
     },
     "execution_count": 47,
     "metadata": {},
     "output_type": "execute_result"
    }
   ],
   "source": [
    "even_num([1,2,3,4,5,6,7,8,9])"
   ]
  },
  {
   "cell_type": "markdown",
   "id": "94a75093",
   "metadata": {},
   "source": [
    "work_hours = [('A',100),('B',400),('C',800),('D',160),('E',210)]\n",
    "\n",
    "employee of the month function that will return both the name and number of hours worked for the top performer (judged by number of hours worked)"
   ]
  },
  {
   "cell_type": "code",
   "execution_count": 1,
   "id": "338a9057",
   "metadata": {},
   "outputs": [],
   "source": [
    "def e_o_m(w):\n",
    "    curr_max = 0\n",
    "    em_of_mo = ''\n",
    "    \n",
    "    for emp, hr in w:\n",
    "        if hr>curr_max:\n",
    "            curr_max = hr\n",
    "            em_of_mo = emp\n",
    "        else:\n",
    "            pass #nothing\n",
    "        \n",
    "    return (em_of_mo,curr_max)"
   ]
  },
  {
   "cell_type": "code",
   "execution_count": 2,
   "id": "205be4c0",
   "metadata": {},
   "outputs": [
    {
     "data": {
      "text/plain": [
       "('C', 800)"
      ]
     },
     "execution_count": 2,
     "metadata": {},
     "output_type": "execute_result"
    }
   ],
   "source": [
    "work_hours = [('A',100),('B',400),('C',800),('D',160),('E',210)]\n",
    "e_o_m(work_hours)"
   ]
  },
  {
   "cell_type": "markdown",
   "id": "c3e380ec",
   "metadata": {},
   "source": [
    "* Write a function that computes the volume of a sphere given its radius\n",
    "* Write a function that checks whether a number is in a given range (inclusive of high and low)"
   ]
  },
  {
   "cell_type": "code",
   "execution_count": 1,
   "id": "9586c649",
   "metadata": {},
   "outputs": [],
   "source": [
    "def volume(rad):\n",
    "    return (4/3)*(22/7)*(rad**3)"
   ]
  },
  {
   "cell_type": "code",
   "execution_count": 2,
   "id": "46ae64ab",
   "metadata": {},
   "outputs": [
    {
     "data": {
      "text/plain": [
       "268.19047619047615"
      ]
     },
     "execution_count": 2,
     "metadata": {},
     "output_type": "execute_result"
    }
   ],
   "source": [
    "volume(4)"
   ]
  },
  {
   "cell_type": "code",
   "execution_count": 4,
   "id": "71093d73",
   "metadata": {},
   "outputs": [
    {
     "data": {
      "text/plain": [
       "[0, 1, 2, 3, 4]"
      ]
     },
     "execution_count": 4,
     "metadata": {},
     "output_type": "execute_result"
    }
   ],
   "source": [
    "list(range(0,4+1))"
   ]
  },
  {
   "cell_type": "code",
   "execution_count": 5,
   "id": "4d1939a3",
   "metadata": {},
   "outputs": [],
   "source": [
    "def ran_check(n,l,h):\n",
    "    if n in range(l,h+1):\n",
    "        print(f'{n} is in the range between {l} and {h}')\n",
    "    else:\n",
    "        print('The number is outside the given range')"
   ]
  },
  {
   "cell_type": "code",
   "execution_count": 6,
   "id": "bd094311",
   "metadata": {},
   "outputs": [
    {
     "name": "stdout",
     "output_type": "stream",
     "text": [
      "The number is outside the given range\n"
     ]
    }
   ],
   "source": [
    "ran_check(16,1,9)"
   ]
  },
  {
   "cell_type": "code",
   "execution_count": 7,
   "id": "99721699",
   "metadata": {},
   "outputs": [
    {
     "name": "stdout",
     "output_type": "stream",
     "text": [
      "16 is in the range between 1 and 9999\n"
     ]
    }
   ],
   "source": [
    "ran_check(16,1,9999)"
   ]
  },
  {
   "cell_type": "code",
   "execution_count": null,
   "id": "a8bee14d",
   "metadata": {},
   "outputs": [],
   "source": []
  }
 ],
 "metadata": {
  "kernelspec": {
   "display_name": "Python 3 (ipykernel)",
   "language": "python",
   "name": "python3"
  },
  "language_info": {
   "codemirror_mode": {
    "name": "ipython",
    "version": 3
   },
   "file_extension": ".py",
   "mimetype": "text/x-python",
   "name": "python",
   "nbconvert_exporter": "python",
   "pygments_lexer": "ipython3",
   "version": "3.11.5"
  }
 },
 "nbformat": 4,
 "nbformat_minor": 5
}
