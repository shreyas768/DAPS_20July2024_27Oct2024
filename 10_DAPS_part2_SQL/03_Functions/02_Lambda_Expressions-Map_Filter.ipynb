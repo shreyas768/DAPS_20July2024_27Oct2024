{
 "cells": [
  {
   "cell_type": "markdown",
   "id": "2864c53d",
   "metadata": {},
   "source": [
    "# Map"
   ]
  },
  {
   "cell_type": "code",
   "execution_count": 1,
   "id": "daac95be",
   "metadata": {},
   "outputs": [],
   "source": [
    "def sq(n):\n",
    "    return n**2"
   ]
  },
  {
   "cell_type": "code",
   "execution_count": 2,
   "id": "bfcf575e",
   "metadata": {},
   "outputs": [
    {
     "data": {
      "text/plain": [
       "64"
      ]
     },
     "execution_count": 2,
     "metadata": {},
     "output_type": "execute_result"
    }
   ],
   "source": [
    "sq(8)"
   ]
  },
  {
   "cell_type": "code",
   "execution_count": 3,
   "id": "a271e581",
   "metadata": {},
   "outputs": [],
   "source": [
    "nums = [1,2,3,4,5]"
   ]
  },
  {
   "cell_type": "code",
   "execution_count": 4,
   "id": "9f8b4e78",
   "metadata": {},
   "outputs": [
    {
     "ename": "TypeError",
     "evalue": "unsupported operand type(s) for ** or pow(): 'list' and 'int'",
     "output_type": "error",
     "traceback": [
      "\u001b[0;31m---------------------------------------------------------------------------\u001b[0m",
      "\u001b[0;31mTypeError\u001b[0m                                 Traceback (most recent call last)",
      "Cell \u001b[0;32mIn[4], line 1\u001b[0m\n\u001b[0;32m----> 1\u001b[0m sq(nums)\n",
      "Cell \u001b[0;32mIn[1], line 2\u001b[0m, in \u001b[0;36msq\u001b[0;34m(n)\u001b[0m\n\u001b[1;32m      1\u001b[0m \u001b[38;5;28;01mdef\u001b[39;00m \u001b[38;5;21msq\u001b[39m(n):\n\u001b[0;32m----> 2\u001b[0m     \u001b[38;5;28;01mreturn\u001b[39;00m n\u001b[38;5;241m*\u001b[39m\u001b[38;5;241m*\u001b[39m\u001b[38;5;241m2\u001b[39m\n",
      "\u001b[0;31mTypeError\u001b[0m: unsupported operand type(s) for ** or pow(): 'list' and 'int'"
     ]
    }
   ],
   "source": [
    "sq(nums)"
   ]
  },
  {
   "cell_type": "code",
   "execution_count": 5,
   "id": "751bdcd7",
   "metadata": {},
   "outputs": [
    {
     "data": {
      "text/plain": [
       "<map at 0x11031b0a0>"
      ]
     },
     "execution_count": 5,
     "metadata": {},
     "output_type": "execute_result"
    }
   ],
   "source": [
    "map(sq,nums)"
   ]
  },
  {
   "cell_type": "code",
   "execution_count": 6,
   "id": "956b9f48",
   "metadata": {},
   "outputs": [
    {
     "data": {
      "text/plain": [
       "[1, 4, 9, 16, 25]"
      ]
     },
     "execution_count": 6,
     "metadata": {},
     "output_type": "execute_result"
    }
   ],
   "source": [
    "list(map(sq,nums))"
   ]
  },
  {
   "cell_type": "code",
   "execution_count": 7,
   "id": "78c4369c",
   "metadata": {},
   "outputs": [],
   "source": [
    "def splicer(string):\n",
    "    if len(string)%2 == 0:\n",
    "        return 'even'\n",
    "    else:\n",
    "        return string[0]"
   ]
  },
  {
   "cell_type": "code",
   "execution_count": 9,
   "id": "a5debfa7",
   "metadata": {},
   "outputs": [
    {
     "data": {
      "text/plain": [
       "['s', 'even']"
      ]
     },
     "execution_count": 9,
     "metadata": {},
     "output_type": "execute_result"
    }
   ],
   "source": [
    "list(map(splicer,['shreyas','hi']))"
   ]
  },
  {
   "cell_type": "markdown",
   "id": "4832c347",
   "metadata": {},
   "source": [
    "## Filter"
   ]
  },
  {
   "cell_type": "code",
   "execution_count": 10,
   "id": "8e00072e",
   "metadata": {},
   "outputs": [],
   "source": [
    "def check_even(n):\n",
    "    return n%2 == 0 "
   ]
  },
  {
   "cell_type": "code",
   "execution_count": 11,
   "id": "f219b81b",
   "metadata": {},
   "outputs": [
    {
     "data": {
      "text/plain": [
       "[1, 2, 3, 4, 5]"
      ]
     },
     "execution_count": 11,
     "metadata": {},
     "output_type": "execute_result"
    }
   ],
   "source": [
    "nums"
   ]
  },
  {
   "cell_type": "code",
   "execution_count": 12,
   "id": "110680a3",
   "metadata": {},
   "outputs": [
    {
     "data": {
      "text/plain": [
       "[2, 4]"
      ]
     },
     "execution_count": 12,
     "metadata": {},
     "output_type": "execute_result"
    }
   ],
   "source": [
    "list(filter(check_even,nums))"
   ]
  },
  {
   "cell_type": "markdown",
   "id": "c81e384f",
   "metadata": {},
   "source": [
    "# Lambda"
   ]
  },
  {
   "cell_type": "code",
   "execution_count": 13,
   "id": "68a4d294",
   "metadata": {},
   "outputs": [],
   "source": [
    "def square(number):\n",
    "    result = number**2\n",
    "    print(result)"
   ]
  },
  {
   "cell_type": "code",
   "execution_count": 14,
   "id": "eaa31915",
   "metadata": {},
   "outputs": [
    {
     "name": "stdout",
     "output_type": "stream",
     "text": [
      "4\n"
     ]
    }
   ],
   "source": [
    "square(2)"
   ]
  },
  {
   "cell_type": "code",
   "execution_count": 15,
   "id": "31970324",
   "metadata": {},
   "outputs": [],
   "source": [
    "def square(number):\n",
    "    return number**2"
   ]
  },
  {
   "cell_type": "code",
   "execution_count": 17,
   "id": "d64404eb",
   "metadata": {},
   "outputs": [],
   "source": [
    "def square1(number): return number**2"
   ]
  },
  {
   "cell_type": "code",
   "execution_count": 18,
   "id": "63f52a29",
   "metadata": {},
   "outputs": [
    {
     "data": {
      "text/plain": [
       "4"
      ]
     },
     "execution_count": 18,
     "metadata": {},
     "output_type": "execute_result"
    }
   ],
   "source": [
    "square1(2)"
   ]
  },
  {
   "cell_type": "code",
   "execution_count": 20,
   "id": "3cedf209",
   "metadata": {},
   "outputs": [],
   "source": [
    "sq2 = lambda number : number**2"
   ]
  },
  {
   "cell_type": "code",
   "execution_count": 21,
   "id": "722192ef",
   "metadata": {},
   "outputs": [
    {
     "data": {
      "text/plain": [
       "81"
      ]
     },
     "execution_count": 21,
     "metadata": {},
     "output_type": "execute_result"
    }
   ],
   "source": [
    "sq2(9)"
   ]
  },
  {
   "cell_type": "code",
   "execution_count": 22,
   "id": "96621530",
   "metadata": {},
   "outputs": [
    {
     "data": {
      "text/plain": [
       "[1, 2, 3, 4, 5]"
      ]
     },
     "execution_count": 22,
     "metadata": {},
     "output_type": "execute_result"
    }
   ],
   "source": [
    "nums"
   ]
  },
  {
   "cell_type": "code",
   "execution_count": 23,
   "id": "5b71a618",
   "metadata": {},
   "outputs": [
    {
     "data": {
      "text/plain": [
       "[1, 4, 9, 16, 25]"
      ]
     },
     "execution_count": 23,
     "metadata": {},
     "output_type": "execute_result"
    }
   ],
   "source": [
    "list(map(lambda n:n**2,nums))"
   ]
  },
  {
   "cell_type": "code",
   "execution_count": 24,
   "id": "8611ff93",
   "metadata": {},
   "outputs": [
    {
     "data": {
      "text/plain": [
       "[2, 4]"
      ]
     },
     "execution_count": 24,
     "metadata": {},
     "output_type": "execute_result"
    }
   ],
   "source": [
    "list(filter(lambda n:n%2==0,nums))"
   ]
  },
  {
   "cell_type": "code",
   "execution_count": 29,
   "id": "f85d3016",
   "metadata": {},
   "outputs": [],
   "source": [
    "s= ['Shreyas','RBPL','IITr']"
   ]
  },
  {
   "cell_type": "code",
   "execution_count": 28,
   "id": "d934f068",
   "metadata": {},
   "outputs": [
    {
     "data": {
      "text/plain": [
       "['sayerhS', 'LPBR', 'rTII']"
      ]
     },
     "execution_count": 28,
     "metadata": {},
     "output_type": "execute_result"
    }
   ],
   "source": [
    "list(map(lambda st:st[::-1],s))"
   ]
  },
  {
   "cell_type": "code",
   "execution_count": 31,
   "id": "cc081c19",
   "metadata": {},
   "outputs": [
    {
     "data": {
      "text/plain": [
       "[9.0, 6.0, 6.0]"
      ]
     },
     "execution_count": 31,
     "metadata": {},
     "output_type": "execute_result"
    }
   ],
   "source": [
    "list(map(lambda st:float(len(st)+2),s))"
   ]
  },
  {
   "cell_type": "code",
   "execution_count": 33,
   "id": "e0ed9484",
   "metadata": {},
   "outputs": [],
   "source": [
    "lst1 = [(1,2),(3,4),(5,6)]\n",
    "\n",
    "m = lambda x,y:x+y"
   ]
  },
  {
   "cell_type": "code",
   "execution_count": 34,
   "id": "e0f66366",
   "metadata": {},
   "outputs": [
    {
     "data": {
      "text/plain": [
       "7"
      ]
     },
     "execution_count": 34,
     "metadata": {},
     "output_type": "execute_result"
    }
   ],
   "source": [
    "m(3,4)"
   ]
  },
  {
   "cell_type": "code",
   "execution_count": 40,
   "id": "f22960cf",
   "metadata": {},
   "outputs": [
    {
     "data": {
      "text/plain": [
       "['SHREYAS', 'RBPL', 'IITR']"
      ]
     },
     "execution_count": 40,
     "metadata": {},
     "output_type": "execute_result"
    }
   ],
   "source": [
    "list(map(lambda st:st.upper(),s))"
   ]
  },
  {
   "cell_type": "code",
   "execution_count": 41,
   "id": "d6b5d704",
   "metadata": {},
   "outputs": [],
   "source": [
    "#function which can filter odd numbers in a list\n",
    "\n",
    "def filterOdd(lst):\n",
    "    return list(filter(lambda x: x%2 != 0 , lst)) "
   ]
  },
  {
   "cell_type": "code",
   "execution_count": 42,
   "id": "258fe52e",
   "metadata": {},
   "outputs": [
    {
     "data": {
      "text/plain": [
       "[5, 33]"
      ]
     },
     "execution_count": 42,
     "metadata": {},
     "output_type": "execute_result"
    }
   ],
   "source": [
    "filterOdd([0,2,5,12,98,33])"
   ]
  },
  {
   "cell_type": "code",
   "execution_count": 47,
   "id": "c92c578b",
   "metadata": {},
   "outputs": [],
   "source": [
    "#function that returns cubes of even numbers in a list\n",
    "\n",
    "def evenCubes(lst):\n",
    "    return list(map(lambda x : x**3,list(filter(lambda x : x%2 == 0, lst))))"
   ]
  },
  {
   "cell_type": "code",
   "execution_count": 48,
   "id": "4bf1bf73",
   "metadata": {},
   "outputs": [
    {
     "data": {
      "text/plain": [
       "[512, 262144]"
      ]
     },
     "execution_count": 48,
     "metadata": {},
     "output_type": "execute_result"
    }
   ],
   "source": [
    "evenCubes([8,64,21])"
   ]
  },
  {
   "cell_type": "code",
   "execution_count": 55,
   "id": "a5bc969f",
   "metadata": {},
   "outputs": [],
   "source": [
    "def cube(lst):\n",
    "    return list(map(lambda x:x**3, lst))\n",
    "def evenCubes12(lst):\n",
    "    return cube(list(filter(lambda x : x%2 == 0, lst)))"
   ]
  },
  {
   "cell_type": "code",
   "execution_count": 56,
   "id": "a7b6c957",
   "metadata": {},
   "outputs": [
    {
     "data": {
      "text/plain": [
       "[8, 64]"
      ]
     },
     "execution_count": 56,
     "metadata": {},
     "output_type": "execute_result"
    }
   ],
   "source": [
    "evenCubes12([1,2,3,4,5])"
   ]
  },
  {
   "cell_type": "code",
   "execution_count": null,
   "id": "34035226",
   "metadata": {},
   "outputs": [],
   "source": []
  }
 ],
 "metadata": {
  "kernelspec": {
   "display_name": "Python 3 (ipykernel)",
   "language": "python",
   "name": "python3"
  },
  "language_info": {
   "codemirror_mode": {
    "name": "ipython",
    "version": 3
   },
   "file_extension": ".py",
   "mimetype": "text/x-python",
   "name": "python",
   "nbconvert_exporter": "python",
   "pygments_lexer": "ipython3",
   "version": "3.11.5"
  }
 },
 "nbformat": 4,
 "nbformat_minor": 5
}
