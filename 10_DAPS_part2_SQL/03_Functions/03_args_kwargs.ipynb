{
 "cells": [
  {
   "cell_type": "code",
   "execution_count": 1,
   "id": "4c45945b",
   "metadata": {},
   "outputs": [],
   "source": [
    "def myfunc(a,b):\n",
    "    return sum((a,b))*.05"
   ]
  },
  {
   "cell_type": "code",
   "execution_count": 2,
   "id": "81e31ebe",
   "metadata": {},
   "outputs": [
    {
     "data": {
      "text/plain": [
       "5.0"
      ]
     },
     "execution_count": 2,
     "metadata": {},
     "output_type": "execute_result"
    }
   ],
   "source": [
    "#positional arguments\n",
    "myfunc(40,60)"
   ]
  },
  {
   "cell_type": "code",
   "execution_count": 9,
   "id": "f6c25626",
   "metadata": {},
   "outputs": [],
   "source": [
    "def myfunc(a=0,b=0,c=2,d=0):\n",
    "    return sum((a,b,c,d))*.05"
   ]
  },
  {
   "cell_type": "code",
   "execution_count": 10,
   "id": "9db0ec31",
   "metadata": {},
   "outputs": [
    {
     "ename": "TypeError",
     "evalue": "myfunc() takes from 0 to 4 positional arguments but 6 were given",
     "output_type": "error",
     "traceback": [
      "\u001b[0;31m---------------------------------------------------------------------------\u001b[0m",
      "\u001b[0;31mTypeError\u001b[0m                                 Traceback (most recent call last)",
      "Cell \u001b[0;32mIn[10], line 1\u001b[0m\n\u001b[0;32m----> 1\u001b[0m myfunc(\u001b[38;5;241m40\u001b[39m,\u001b[38;5;241m60\u001b[39m,\u001b[38;5;241m20\u001b[39m,\u001b[38;5;241m11\u001b[39m,\u001b[38;5;241m11\u001b[39m,\u001b[38;5;241m11\u001b[39m)\n",
      "\u001b[0;31mTypeError\u001b[0m: myfunc() takes from 0 to 4 positional arguments but 6 were given"
     ]
    }
   ],
   "source": [
    "myfunc(40,60,20,11,11,11)"
   ]
  },
  {
   "cell_type": "markdown",
   "id": "d2dfe08b",
   "metadata": {},
   "source": [
    "# *args"
   ]
  },
  {
   "cell_type": "code",
   "execution_count": 15,
   "id": "877488cf",
   "metadata": {},
   "outputs": [],
   "source": [
    "def myfunc(*args):\n",
    "    return sum(args)*0.05"
   ]
  },
  {
   "cell_type": "code",
   "execution_count": 16,
   "id": "a8b48174",
   "metadata": {},
   "outputs": [
    {
     "data": {
      "text/plain": [
       "5.050000000000001"
      ]
     },
     "execution_count": 16,
     "metadata": {},
     "output_type": "execute_result"
    }
   ],
   "source": [
    "myfunc(11,1,12,54,23)"
   ]
  },
  {
   "cell_type": "markdown",
   "id": "6af904eb",
   "metadata": {},
   "source": [
    "# *kwargs"
   ]
  },
  {
   "cell_type": "code",
   "execution_count": 18,
   "id": "54d0a402",
   "metadata": {},
   "outputs": [],
   "source": [
    "def func(**kwargs):\n",
    "    if 'fruit' in kwargs:\n",
    "        print(f\"My fav fruit is {kwargs['fruit']}\")\n",
    "    else:\n",
    "        print('I dont like that fruit')"
   ]
  },
  {
   "cell_type": "code",
   "execution_count": 22,
   "id": "84f4d1f4",
   "metadata": {},
   "outputs": [
    {
     "name": "stdout",
     "output_type": "stream",
     "text": [
      "My fav fruit is pineapple\n"
     ]
    }
   ],
   "source": [
    "func(fruit = 'pineapple')"
   ]
  },
  {
   "cell_type": "code",
   "execution_count": 23,
   "id": "08c5ccba",
   "metadata": {},
   "outputs": [],
   "source": [
    "def f1(*args,**kwargs):\n",
    "    if 'fruit' and 'juice' in kwargs:\n",
    "        print(f\"I like {' and '.join(args)} and my fav fruit is {kwargs['fruit']}\")\n",
    "        print(f\"Give me some {kwargs['juice']} juice?\")\n",
    "        \n",
    "    else:\n",
    "        pass"
   ]
  },
  {
   "cell_type": "code",
   "execution_count": 27,
   "id": "1ccd55d5",
   "metadata": {},
   "outputs": [
    {
     "name": "stdout",
     "output_type": "stream",
     "text": [
      "I like eggs and cereals and maggie and my fav fruit is cherries\n",
      "Give me some pineapple juice?\n"
     ]
    }
   ],
   "source": [
    "f1('eggs','cereals','maggie', fruit = 'cherries',juice = 'pineapple')"
   ]
  },
  {
   "cell_type": "code",
   "execution_count": 28,
   "id": "8daf171d",
   "metadata": {},
   "outputs": [
    {
     "ename": "SyntaxError",
     "evalue": "positional argument follows keyword argument (740805285.py, line 1)",
     "output_type": "error",
     "traceback": [
      "\u001b[0;36m  Cell \u001b[0;32mIn[28], line 1\u001b[0;36m\u001b[0m\n\u001b[0;31m    f1(fruit = 'cherries',juice = 'pineapple','eggs','cereals','maggie')\u001b[0m\n\u001b[0m                                                                       ^\u001b[0m\n\u001b[0;31mSyntaxError\u001b[0m\u001b[0;31m:\u001b[0m positional argument follows keyword argument\n"
     ]
    }
   ],
   "source": [
    "f1(fruit = 'cherries',juice = 'pineapple','eggs','cereals','maggie')"
   ]
  },
  {
   "cell_type": "code",
   "execution_count": null,
   "id": "c2f0b89f",
   "metadata": {},
   "outputs": [],
   "source": []
  }
 ],
 "metadata": {
  "kernelspec": {
   "display_name": "Python 3 (ipykernel)",
   "language": "python",
   "name": "python3"
  },
  "language_info": {
   "codemirror_mode": {
    "name": "ipython",
    "version": 3
   },
   "file_extension": ".py",
   "mimetype": "text/x-python",
   "name": "python",
   "nbconvert_exporter": "python",
   "pygments_lexer": "ipython3",
   "version": "3.11.5"
  }
 },
 "nbformat": 4,
 "nbformat_minor": 5
}
