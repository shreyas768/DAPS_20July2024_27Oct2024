{
 "cells": [
  {
   "cell_type": "markdown",
   "id": "47417a6a",
   "metadata": {},
   "source": [
    "# Importing Numpy Library"
   ]
  },
  {
   "cell_type": "code",
   "execution_count": 1,
   "id": "92df8b4c",
   "metadata": {},
   "outputs": [],
   "source": [
    "import numpy as np"
   ]
  },
  {
   "cell_type": "markdown",
   "id": "617bf26a",
   "metadata": {},
   "source": [
    "### Numpy Arrays\n",
    "\n",
    "* Vectors -->> 1-D Arrays\n",
    "* Matrices -->> 2-D Arrays"
   ]
  },
  {
   "cell_type": "code",
   "execution_count": 2,
   "id": "924a9f5e",
   "metadata": {},
   "outputs": [],
   "source": [
    "my_list = [1,2,3,4]"
   ]
  },
  {
   "cell_type": "code",
   "execution_count": 3,
   "id": "ea4d6c26",
   "metadata": {},
   "outputs": [
    {
     "data": {
      "text/plain": [
       "list"
      ]
     },
     "execution_count": 3,
     "metadata": {},
     "output_type": "execute_result"
    }
   ],
   "source": [
    "type(my_list)"
   ]
  },
  {
   "cell_type": "code",
   "execution_count": 5,
   "id": "32db06e6",
   "metadata": {},
   "outputs": [
    {
     "data": {
      "text/plain": [
       "numpy.ndarray"
      ]
     },
     "execution_count": 5,
     "metadata": {},
     "output_type": "execute_result"
    }
   ],
   "source": [
    "my_array = np.array(my_list)\n",
    "type(my_array)"
   ]
  },
  {
   "cell_type": "code",
   "execution_count": 7,
   "id": "a642165b",
   "metadata": {},
   "outputs": [
    {
     "data": {
      "text/plain": [
       "array([1, 2, 3, 4])"
      ]
     },
     "execution_count": 7,
     "metadata": {},
     "output_type": "execute_result"
    }
   ],
   "source": [
    "my_array"
   ]
  },
  {
   "cell_type": "code",
   "execution_count": 9,
   "id": "027f5eee",
   "metadata": {},
   "outputs": [
    {
     "data": {
      "text/plain": [
       "array([[ 1,  2,  3, 11],\n",
       "       [ 4,  5,  6, 12],\n",
       "       [ 7,  8,  9, 10]])"
      ]
     },
     "execution_count": 9,
     "metadata": {},
     "output_type": "execute_result"
    }
   ],
   "source": [
    "my_mat = [[1,2,3,11],[4,5,6,12],[7,8,9,10]]\n",
    "np.array(my_mat)"
   ]
  },
  {
   "cell_type": "markdown",
   "id": "b3255434",
   "metadata": {},
   "source": [
    "### Built-in methods to create arrays"
   ]
  },
  {
   "cell_type": "code",
   "execution_count": 10,
   "id": "c40a7830",
   "metadata": {},
   "outputs": [
    {
     "data": {
      "text/plain": [
       "array([0, 1, 2, 3, 4, 5, 6, 7, 8, 9])"
      ]
     },
     "execution_count": 10,
     "metadata": {},
     "output_type": "execute_result"
    }
   ],
   "source": [
    "#arange : return evenly spaced values\n",
    "\n",
    "np.arange(0,10)"
   ]
  },
  {
   "cell_type": "code",
   "execution_count": 11,
   "id": "7f93a175",
   "metadata": {},
   "outputs": [
    {
     "data": {
      "text/plain": [
       "array([0, 3, 6, 9])"
      ]
     },
     "execution_count": 11,
     "metadata": {},
     "output_type": "execute_result"
    }
   ],
   "source": [
    "np.arange(0,10,3)"
   ]
  },
  {
   "cell_type": "code",
   "execution_count": 15,
   "id": "f68564c4",
   "metadata": {},
   "outputs": [
    {
     "data": {
      "text/plain": [
       "array([0., 0., 0., 0.])"
      ]
     },
     "execution_count": 15,
     "metadata": {},
     "output_type": "execute_result"
    }
   ],
   "source": [
    "#zeros and ones\n",
    "\n",
    "np.zeros(4)"
   ]
  },
  {
   "cell_type": "code",
   "execution_count": 17,
   "id": "76ff5886",
   "metadata": {},
   "outputs": [
    {
     "data": {
      "text/plain": [
       "array([[0., 0.],\n",
       "       [0., 0.],\n",
       "       [0., 0.],\n",
       "       [0., 0.]])"
      ]
     },
     "execution_count": 17,
     "metadata": {},
     "output_type": "execute_result"
    }
   ],
   "source": [
    "np.zeros((4,2))"
   ]
  },
  {
   "cell_type": "code",
   "execution_count": 18,
   "id": "1f7691b6",
   "metadata": {},
   "outputs": [
    {
     "data": {
      "text/plain": [
       "array([1., 1., 1., 1.])"
      ]
     },
     "execution_count": 18,
     "metadata": {},
     "output_type": "execute_result"
    }
   ],
   "source": [
    "np.ones(4)"
   ]
  },
  {
   "cell_type": "code",
   "execution_count": 19,
   "id": "e1c7e4d2",
   "metadata": {},
   "outputs": [
    {
     "data": {
      "text/plain": [
       "array([[1., 1., 1., 1., 1., 1., 1., 1.],\n",
       "       [1., 1., 1., 1., 1., 1., 1., 1.],\n",
       "       [1., 1., 1., 1., 1., 1., 1., 1.],\n",
       "       [1., 1., 1., 1., 1., 1., 1., 1.]])"
      ]
     },
     "execution_count": 19,
     "metadata": {},
     "output_type": "execute_result"
    }
   ],
   "source": [
    "np.ones((4,8))"
   ]
  },
  {
   "cell_type": "code",
   "execution_count": 20,
   "id": "734732c3",
   "metadata": {},
   "outputs": [
    {
     "data": {
      "text/plain": [
       "array([ 0.,  5., 10.])"
      ]
     },
     "execution_count": 20,
     "metadata": {},
     "output_type": "execute_result"
    }
   ],
   "source": [
    "#linspace : returns evenly spaced over a specified interval\n",
    "np.linspace(0,10,3)"
   ]
  },
  {
   "cell_type": "code",
   "execution_count": 21,
   "id": "b54132c7",
   "metadata": {},
   "outputs": [
    {
     "data": {
      "text/plain": [
       "array([0.        , 0.26315789, 0.52631579, 0.78947368, 1.05263158,\n",
       "       1.31578947, 1.57894737, 1.84210526, 2.10526316, 2.36842105,\n",
       "       2.63157895, 2.89473684, 3.15789474, 3.42105263, 3.68421053,\n",
       "       3.94736842, 4.21052632, 4.47368421, 4.73684211, 5.        ])"
      ]
     },
     "execution_count": 21,
     "metadata": {},
     "output_type": "execute_result"
    }
   ],
   "source": [
    "np.linspace(0,5,20)"
   ]
  },
  {
   "cell_type": "code",
   "execution_count": 24,
   "id": "36a348c8",
   "metadata": {},
   "outputs": [
    {
     "data": {
      "text/plain": [
       "array([[1., 0., 0., 0., 0., 0.],\n",
       "       [0., 1., 0., 0., 0., 0.],\n",
       "       [0., 0., 1., 0., 0., 0.],\n",
       "       [0., 0., 0., 1., 0., 0.],\n",
       "       [0., 0., 0., 0., 1., 0.],\n",
       "       [0., 0., 0., 0., 0., 1.]])"
      ]
     },
     "execution_count": 24,
     "metadata": {},
     "output_type": "execute_result"
    }
   ],
   "source": [
    "#eyes\n",
    "np.eye(6)"
   ]
  },
  {
   "cell_type": "markdown",
   "id": "8d5adcda",
   "metadata": {},
   "source": [
    "## Random\n",
    "\n",
    "* uniform distribution\n",
    "* standard normal distribution\n",
    "* bell curve"
   ]
  },
  {
   "cell_type": "code",
   "execution_count": 29,
   "id": "8337613e",
   "metadata": {},
   "outputs": [
    {
     "data": {
      "text/plain": [
       "array([0.63979281, 0.99805139])"
      ]
     },
     "execution_count": 29,
     "metadata": {},
     "output_type": "execute_result"
    }
   ],
   "source": [
    "#rand : creates an array of given shape and populates it with random samples from a uniform distribution over [0,1)\n",
    "\n",
    "np.random.rand(2)"
   ]
  },
  {
   "cell_type": "code",
   "execution_count": 35,
   "id": "65f1f938",
   "metadata": {},
   "outputs": [
    {
     "data": {
      "text/plain": [
       "array([[0.09759195, 0.51916239, 0.36591708, 0.80430837],\n",
       "       [0.6851662 , 0.16427313, 0.53438055, 0.27016663],\n",
       "       [0.78030558, 0.92638735, 0.41058103, 0.34292359],\n",
       "       [0.669116  , 0.18869046, 0.81743404, 0.55222462],\n",
       "       [0.87741047, 0.42195087, 0.21790687, 0.69662384]])"
      ]
     },
     "execution_count": 35,
     "metadata": {},
     "output_type": "execute_result"
    }
   ],
   "source": [
    "np.random.rand(5,4)"
   ]
  },
  {
   "cell_type": "code",
   "execution_count": 32,
   "id": "5a6a0597",
   "metadata": {},
   "outputs": [
    {
     "data": {
      "text/plain": [
       "array([ 0.32663588, -3.16530906])"
      ]
     },
     "execution_count": 32,
     "metadata": {},
     "output_type": "execute_result"
    }
   ],
   "source": [
    "#randn : samples from standard normal distribution (std dev is 1)\n",
    "\n",
    "np.random.randn(2)"
   ]
  },
  {
   "cell_type": "code",
   "execution_count": 36,
   "id": "13f44c0b",
   "metadata": {},
   "outputs": [
    {
     "data": {
      "text/plain": [
       "array([[ 0.47073278,  0.63109083,  0.85943067,  1.37772482,  0.70526544],\n",
       "       [-0.61217175, -0.34556372,  0.89309736, -0.67015221,  0.4597901 ]])"
      ]
     },
     "execution_count": 36,
     "metadata": {},
     "output_type": "execute_result"
    }
   ],
   "source": [
    "\n",
    "np.random.randn(2,5)"
   ]
  },
  {
   "cell_type": "code",
   "execution_count": 44,
   "id": "cea3e4f3",
   "metadata": {},
   "outputs": [
    {
     "data": {
      "text/plain": [
       "20"
      ]
     },
     "execution_count": 44,
     "metadata": {},
     "output_type": "execute_result"
    }
   ],
   "source": [
    "#randint: returns random integers from low(inclusive) to high(exclusive)\n",
    "\n",
    "np.random.randint(1,100)"
   ]
  },
  {
   "cell_type": "code",
   "execution_count": 50,
   "id": "64e0e892",
   "metadata": {},
   "outputs": [
    {
     "data": {
      "text/plain": [
       "array([ 8,  7, 16, 43, 89, 59, 33, 49, 61, 26, 56, 19,  7, 64, 38, 94, 15,\n",
       "       61, 35, 44, 62, 38, 93, 12, 35, 95, 34, 18, 64, 23])"
      ]
     },
     "execution_count": 50,
     "metadata": {},
     "output_type": "execute_result"
    }
   ],
   "source": [
    "np.random.randint(1,100,30)"
   ]
  },
  {
   "cell_type": "markdown",
   "id": "7739d573",
   "metadata": {},
   "source": [
    "# Seed\n",
    "\n",
    "* sets random state, so that same random results can be reproduced\n",
    "\n",
    "* (this is same as setting random state in machine learning train test split in sklearn and pytorch)"
   ]
  },
  {
   "cell_type": "code",
   "execution_count": 73,
   "id": "5bc07f6b",
   "metadata": {},
   "outputs": [
    {
     "data": {
      "text/plain": [
       "array([266, 126, 485,  16, 321, 370, 124, 157, 474, 222, 497, 414, 370,\n",
       "         9,  74, 257, 491,  41, 421, 372,  17, 357, 240, 396,  55, 345,\n",
       "       364, 123,  63,  34])"
      ]
     },
     "execution_count": 73,
     "metadata": {},
     "output_type": "execute_result"
    }
   ],
   "source": [
    "np.random.seed(10)\n",
    "np.random.randint(1,500,30)"
   ]
  },
  {
   "cell_type": "markdown",
   "id": "13cef4d6",
   "metadata": {},
   "source": [
    "## Array Attributes and Method"
   ]
  },
  {
   "cell_type": "code",
   "execution_count": 87,
   "id": "4c29c2d5",
   "metadata": {},
   "outputs": [],
   "source": [
    "arr = np.arange(20)\n",
    "ranar = np.random.randint(0,50,10)"
   ]
  },
  {
   "cell_type": "code",
   "execution_count": 88,
   "id": "c730e401",
   "metadata": {},
   "outputs": [
    {
     "data": {
      "text/plain": [
       "array([ 0,  1,  2,  3,  4,  5,  6,  7,  8,  9, 10, 11, 12, 13, 14, 15, 16,\n",
       "       17, 18, 19])"
      ]
     },
     "execution_count": 88,
     "metadata": {},
     "output_type": "execute_result"
    }
   ],
   "source": [
    "arr"
   ]
  },
  {
   "cell_type": "code",
   "execution_count": 106,
   "id": "c7ca8ccc",
   "metadata": {},
   "outputs": [
    {
     "data": {
      "text/plain": [
       "(20,)"
      ]
     },
     "execution_count": 106,
     "metadata": {},
     "output_type": "execute_result"
    }
   ],
   "source": [
    "#shape\n",
    "arr.shape"
   ]
  },
  {
   "cell_type": "code",
   "execution_count": 92,
   "id": "2b596b3e",
   "metadata": {},
   "outputs": [],
   "source": [
    "#reshape: return an array containing the same datat but with a diff shape\n",
    "arr_res = arr.reshape(4,5)"
   ]
  },
  {
   "cell_type": "code",
   "execution_count": 93,
   "id": "2b712811",
   "metadata": {},
   "outputs": [
    {
     "data": {
      "text/plain": [
       "(4, 5)"
      ]
     },
     "execution_count": 93,
     "metadata": {},
     "output_type": "execute_result"
    }
   ],
   "source": [
    "arr_res.shape"
   ]
  },
  {
   "cell_type": "code",
   "execution_count": 98,
   "id": "dc08ec28",
   "metadata": {},
   "outputs": [
    {
     "data": {
      "text/plain": [
       "array([[ 0],\n",
       "       [ 1],\n",
       "       [ 2],\n",
       "       [ 3],\n",
       "       [ 4],\n",
       "       [ 5],\n",
       "       [ 6],\n",
       "       [ 7],\n",
       "       [ 8],\n",
       "       [ 9],\n",
       "       [10],\n",
       "       [11],\n",
       "       [12],\n",
       "       [13],\n",
       "       [14],\n",
       "       [15],\n",
       "       [16],\n",
       "       [17],\n",
       "       [18],\n",
       "       [19]])"
      ]
     },
     "execution_count": 98,
     "metadata": {},
     "output_type": "execute_result"
    }
   ],
   "source": [
    "arr_res_1_20 = arr.reshape(20,1)\n",
    "arr_res_1_20"
   ]
  },
  {
   "cell_type": "code",
   "execution_count": 99,
   "id": "fd049dd9",
   "metadata": {},
   "outputs": [
    {
     "data": {
      "text/plain": [
       "(20, 1)"
      ]
     },
     "execution_count": 99,
     "metadata": {},
     "output_type": "execute_result"
    }
   ],
   "source": [
    "arr_res_1_20.shape"
   ]
  },
  {
   "cell_type": "code",
   "execution_count": 100,
   "id": "ff21b3ae",
   "metadata": {},
   "outputs": [
    {
     "data": {
      "text/plain": [
       "array([44, 33,  4, 29, 42,  8, 34, 11, 13, 42])"
      ]
     },
     "execution_count": 100,
     "metadata": {},
     "output_type": "execute_result"
    }
   ],
   "source": [
    "ranar"
   ]
  },
  {
   "cell_type": "code",
   "execution_count": 101,
   "id": "30785f66",
   "metadata": {},
   "outputs": [
    {
     "data": {
      "text/plain": [
       "44"
      ]
     },
     "execution_count": 101,
     "metadata": {},
     "output_type": "execute_result"
    }
   ],
   "source": [
    "#max\n",
    "ranar.max()"
   ]
  },
  {
   "cell_type": "code",
   "execution_count": 102,
   "id": "16f9322c",
   "metadata": {},
   "outputs": [
    {
     "data": {
      "text/plain": [
       "0"
      ]
     },
     "execution_count": 102,
     "metadata": {},
     "output_type": "execute_result"
    }
   ],
   "source": [
    "#argmax\n",
    "ranar.argmax()"
   ]
  },
  {
   "cell_type": "code",
   "execution_count": 103,
   "id": "3d0a0593",
   "metadata": {},
   "outputs": [
    {
     "data": {
      "text/plain": [
       "4"
      ]
     },
     "execution_count": 103,
     "metadata": {},
     "output_type": "execute_result"
    }
   ],
   "source": [
    "#min\n",
    "ranar.min()"
   ]
  },
  {
   "cell_type": "code",
   "execution_count": 105,
   "id": "48615cfa",
   "metadata": {},
   "outputs": [
    {
     "data": {
      "text/plain": [
       "2"
      ]
     },
     "execution_count": 105,
     "metadata": {},
     "output_type": "execute_result"
    }
   ],
   "source": [
    "#argmin\n",
    "ranar.argmin()"
   ]
  },
  {
   "cell_type": "code",
   "execution_count": 107,
   "id": "8ddd8c39",
   "metadata": {},
   "outputs": [
    {
     "data": {
      "text/plain": [
       "dtype('int64')"
      ]
     },
     "execution_count": 107,
     "metadata": {},
     "output_type": "execute_result"
    }
   ],
   "source": [
    "ranar.dtype"
   ]
  },
  {
   "cell_type": "code",
   "execution_count": 113,
   "id": "1c28ca4e",
   "metadata": {},
   "outputs": [],
   "source": [
    "a = np.array([[1, 2], [3, 4]])"
   ]
  },
  {
   "cell_type": "code",
   "execution_count": 114,
   "id": "178f5a9a",
   "metadata": {},
   "outputs": [
    {
     "data": {
      "text/plain": [
       "array([[1, 2],\n",
       "       [3, 4]])"
      ]
     },
     "execution_count": 114,
     "metadata": {},
     "output_type": "execute_result"
    }
   ],
   "source": [
    "a"
   ]
  },
  {
   "cell_type": "code",
   "execution_count": 115,
   "id": "1017ad2b",
   "metadata": {},
   "outputs": [
    {
     "data": {
      "text/plain": [
       "array([[1, 3],\n",
       "       [2, 4]])"
      ]
     },
     "execution_count": 115,
     "metadata": {},
     "output_type": "execute_result"
    }
   ],
   "source": [
    "a.transpose()"
   ]
  },
  {
   "cell_type": "code",
   "execution_count": 116,
   "id": "a7345402",
   "metadata": {},
   "outputs": [
    {
     "data": {
      "text/plain": [
       "array([44, 33,  4, 29, 42,  8, 34, 11, 13, 42])"
      ]
     },
     "execution_count": 116,
     "metadata": {},
     "output_type": "execute_result"
    }
   ],
   "source": [
    "ranar"
   ]
  },
  {
   "cell_type": "code",
   "execution_count": 118,
   "id": "f9e7c846",
   "metadata": {},
   "outputs": [],
   "source": [
    "lst = ranar.tolist()"
   ]
  },
  {
   "cell_type": "code",
   "execution_count": 119,
   "id": "483154ba",
   "metadata": {},
   "outputs": [
    {
     "data": {
      "text/plain": [
       "list"
      ]
     },
     "execution_count": 119,
     "metadata": {},
     "output_type": "execute_result"
    }
   ],
   "source": [
    "type(lst)"
   ]
  },
  {
   "cell_type": "code",
   "execution_count": null,
   "id": "659cdd25",
   "metadata": {},
   "outputs": [],
   "source": []
  }
 ],
 "metadata": {
  "kernelspec": {
   "display_name": "Python 3 (ipykernel)",
   "language": "python",
   "name": "python3"
  },
  "language_info": {
   "codemirror_mode": {
    "name": "ipython",
    "version": 3
   },
   "file_extension": ".py",
   "mimetype": "text/x-python",
   "name": "python",
   "nbconvert_exporter": "python",
   "pygments_lexer": "ipython3",
   "version": "3.11.5"
  }
 },
 "nbformat": 4,
 "nbformat_minor": 5
}
