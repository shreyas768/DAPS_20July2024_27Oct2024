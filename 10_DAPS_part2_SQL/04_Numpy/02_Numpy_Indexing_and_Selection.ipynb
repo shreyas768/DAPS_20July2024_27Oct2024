{
 "cells": [
  {
   "cell_type": "code",
   "execution_count": 1,
   "id": "ba600abd",
   "metadata": {},
   "outputs": [],
   "source": [
    "import numpy as np"
   ]
  },
  {
   "cell_type": "code",
   "execution_count": 3,
   "id": "1e601c43",
   "metadata": {},
   "outputs": [
    {
     "data": {
      "text/plain": [
       "array([11, 12, 13, 14, 15, 16, 17, 18, 19, 20, 21])"
      ]
     },
     "execution_count": 3,
     "metadata": {},
     "output_type": "execute_result"
    }
   ],
   "source": [
    "arr = np.arange(11,22)\n",
    "arr"
   ]
  },
  {
   "cell_type": "code",
   "execution_count": 4,
   "id": "70ed21a0",
   "metadata": {},
   "outputs": [
    {
     "data": {
      "text/plain": [
       "15"
      ]
     },
     "execution_count": 4,
     "metadata": {},
     "output_type": "execute_result"
    }
   ],
   "source": [
    "#Bracket Indexing and Selection\n",
    "arr[4]"
   ]
  },
  {
   "cell_type": "code",
   "execution_count": 5,
   "id": "30288966",
   "metadata": {},
   "outputs": [
    {
     "data": {
      "text/plain": [
       "array([15, 16, 17])"
      ]
     },
     "execution_count": 5,
     "metadata": {},
     "output_type": "execute_result"
    }
   ],
   "source": [
    "#values in a range\n",
    "arr[4:7]"
   ]
  },
  {
   "cell_type": "markdown",
   "id": "04432612",
   "metadata": {},
   "source": [
    "# Broadcasting"
   ]
  },
  {
   "cell_type": "code",
   "execution_count": 7,
   "id": "37fbbea5",
   "metadata": {},
   "outputs": [],
   "source": [
    "arr[0:5] =10"
   ]
  },
  {
   "cell_type": "code",
   "execution_count": 8,
   "id": "f425cda7",
   "metadata": {},
   "outputs": [
    {
     "data": {
      "text/plain": [
       "array([10, 10, 10, 10, 10, 16, 17, 18, 19, 20, 21])"
      ]
     },
     "execution_count": 8,
     "metadata": {},
     "output_type": "execute_result"
    }
   ],
   "source": [
    "arr"
   ]
  },
  {
   "cell_type": "code",
   "execution_count": 10,
   "id": "e3fb5e01",
   "metadata": {},
   "outputs": [],
   "source": [
    "#reset the array\n",
    "arr = np.arange(11,22)"
   ]
  },
  {
   "cell_type": "code",
   "execution_count": 11,
   "id": "983f8c6c",
   "metadata": {},
   "outputs": [],
   "source": [
    "slice_of_arr = arr[0:5]"
   ]
  },
  {
   "cell_type": "code",
   "execution_count": 12,
   "id": "70b5971f",
   "metadata": {},
   "outputs": [
    {
     "data": {
      "text/plain": [
       "array([11, 12, 13, 14, 15])"
      ]
     },
     "execution_count": 12,
     "metadata": {},
     "output_type": "execute_result"
    }
   ],
   "source": [
    "slice_of_arr"
   ]
  },
  {
   "cell_type": "code",
   "execution_count": 17,
   "id": "869f7d39",
   "metadata": {},
   "outputs": [],
   "source": [
    "slice_of_arr[:] = 99"
   ]
  },
  {
   "cell_type": "code",
   "execution_count": 18,
   "id": "f67c3b5a",
   "metadata": {},
   "outputs": [
    {
     "data": {
      "text/plain": [
       "array([99, 99, 99, 99, 99])"
      ]
     },
     "execution_count": 18,
     "metadata": {},
     "output_type": "execute_result"
    }
   ],
   "source": [
    "slice_of_arr"
   ]
  },
  {
   "cell_type": "code",
   "execution_count": 19,
   "id": "e9619771",
   "metadata": {},
   "outputs": [
    {
     "data": {
      "text/plain": [
       "array([99, 99, 99, 99, 99, 16, 17, 18, 19, 20, 21])"
      ]
     },
     "execution_count": 19,
     "metadata": {},
     "output_type": "execute_result"
    }
   ],
   "source": [
    "arr"
   ]
  },
  {
   "cell_type": "code",
   "execution_count": 20,
   "id": "0cb84ec0",
   "metadata": {},
   "outputs": [],
   "source": [
    "slice_of_arr = arr[0:5].copy()"
   ]
  },
  {
   "cell_type": "code",
   "execution_count": 21,
   "id": "94d2c521",
   "metadata": {},
   "outputs": [],
   "source": [
    "slice_of_arr[:] = 59"
   ]
  },
  {
   "cell_type": "code",
   "execution_count": 22,
   "id": "d17921d9",
   "metadata": {},
   "outputs": [
    {
     "data": {
      "text/plain": [
       "array([99, 99, 99, 99, 99, 16, 17, 18, 19, 20, 21])"
      ]
     },
     "execution_count": 22,
     "metadata": {},
     "output_type": "execute_result"
    }
   ],
   "source": [
    "arr"
   ]
  },
  {
   "cell_type": "code",
   "execution_count": 23,
   "id": "601bb038",
   "metadata": {},
   "outputs": [
    {
     "data": {
      "text/plain": [
       "array([59, 59, 59, 59, 59])"
      ]
     },
     "execution_count": 23,
     "metadata": {},
     "output_type": "execute_result"
    }
   ],
   "source": [
    "slice_of_arr"
   ]
  },
  {
   "cell_type": "markdown",
   "id": "8aa95d5d",
   "metadata": {},
   "source": [
    "### Indexing a 2D array"
   ]
  },
  {
   "cell_type": "code",
   "execution_count": 26,
   "id": "894482cf",
   "metadata": {},
   "outputs": [
    {
     "data": {
      "text/plain": [
       "array([[ 5, 10, 15],\n",
       "       [20, 25, 30],\n",
       "       [35, 40, 45]])"
      ]
     },
     "execution_count": 26,
     "metadata": {},
     "output_type": "execute_result"
    }
   ],
   "source": [
    "arr_2d = np.array(([5,10,15],[20,25,30],[35,40,45]))\n",
    "arr_2d"
   ]
  },
  {
   "cell_type": "code",
   "execution_count": 28,
   "id": "00d4191a",
   "metadata": {},
   "outputs": [
    {
     "data": {
      "text/plain": [
       "array([20, 25, 30])"
      ]
     },
     "execution_count": 28,
     "metadata": {},
     "output_type": "execute_result"
    }
   ],
   "source": [
    "#Indexing the row\n",
    "arr_2d[1]"
   ]
  },
  {
   "cell_type": "code",
   "execution_count": 29,
   "id": "b1fc9636",
   "metadata": {},
   "outputs": [
    {
     "data": {
      "text/plain": [
       "25"
      ]
     },
     "execution_count": 29,
     "metadata": {},
     "output_type": "execute_result"
    }
   ],
   "source": [
    "arr_2d[1][-2]"
   ]
  },
  {
   "cell_type": "code",
   "execution_count": 35,
   "id": "e9e59f38",
   "metadata": {},
   "outputs": [
    {
     "data": {
      "text/plain": [
       "array([20, 25, 30])"
      ]
     },
     "execution_count": 35,
     "metadata": {},
     "output_type": "execute_result"
    }
   ],
   "source": [
    "arr_2d[:][-2]"
   ]
  },
  {
   "cell_type": "code",
   "execution_count": 36,
   "id": "0340bc9b",
   "metadata": {},
   "outputs": [
    {
     "data": {
      "text/plain": [
       "45"
      ]
     },
     "execution_count": 36,
     "metadata": {},
     "output_type": "execute_result"
    }
   ],
   "source": [
    "#arr_2d[row,col]\n",
    "\n",
    "arr_2d[-1,-1]"
   ]
  },
  {
   "cell_type": "code",
   "execution_count": 37,
   "id": "7a9c0407",
   "metadata": {},
   "outputs": [
    {
     "data": {
      "text/plain": [
       "45"
      ]
     },
     "execution_count": 37,
     "metadata": {},
     "output_type": "execute_result"
    }
   ],
   "source": [
    "arr_2d[2,-1]"
   ]
  },
  {
   "cell_type": "code",
   "execution_count": 38,
   "id": "1c1e9556",
   "metadata": {},
   "outputs": [
    {
     "data": {
      "text/plain": [
       "45"
      ]
     },
     "execution_count": 38,
     "metadata": {},
     "output_type": "execute_result"
    }
   ],
   "source": [
    "arr_2d[-1,2]"
   ]
  },
  {
   "cell_type": "code",
   "execution_count": 39,
   "id": "8346f5da",
   "metadata": {},
   "outputs": [
    {
     "data": {
      "text/plain": [
       "45"
      ]
     },
     "execution_count": 39,
     "metadata": {},
     "output_type": "execute_result"
    }
   ],
   "source": [
    "arr_2d[2,2]"
   ]
  },
  {
   "cell_type": "code",
   "execution_count": 40,
   "id": "a9312731",
   "metadata": {},
   "outputs": [
    {
     "data": {
      "text/plain": [
       "array([[ 5, 10, 15],\n",
       "       [20, 25, 30],\n",
       "       [35, 40, 45]])"
      ]
     },
     "execution_count": 40,
     "metadata": {},
     "output_type": "execute_result"
    }
   ],
   "source": [
    "arr_2d"
   ]
  },
  {
   "cell_type": "code",
   "execution_count": 41,
   "id": "12553c49",
   "metadata": {},
   "outputs": [
    {
     "data": {
      "text/plain": [
       "array([[ 5, 10],\n",
       "       [20, 25]])"
      ]
     },
     "execution_count": 41,
     "metadata": {},
     "output_type": "execute_result"
    }
   ],
   "source": [
    "arr_2d[:2,:2]"
   ]
  },
  {
   "cell_type": "code",
   "execution_count": 42,
   "id": "45e0ef41",
   "metadata": {},
   "outputs": [
    {
     "data": {
      "text/plain": [
       "array([ 5, 25, 45])"
      ]
     },
     "execution_count": 42,
     "metadata": {},
     "output_type": "execute_result"
    }
   ],
   "source": [
    "arr_2d.diagonal()"
   ]
  },
  {
   "cell_type": "code",
   "execution_count": 43,
   "id": "7c8a042d",
   "metadata": {},
   "outputs": [
    {
     "data": {
      "text/plain": [
       "array([[25, 30],\n",
       "       [40, 45]])"
      ]
     },
     "execution_count": 43,
     "metadata": {},
     "output_type": "execute_result"
    }
   ],
   "source": [
    "arr_2d[1:,1:]"
   ]
  },
  {
   "cell_type": "code",
   "execution_count": 48,
   "id": "c8b2d9af",
   "metadata": {},
   "outputs": [
    {
     "data": {
      "text/plain": [
       "array([[0.        , 0.14705882, 0.29411765, 0.44117647, 0.58823529],\n",
       "       [0.73529412, 0.88235294, 1.02941176, 1.17647059, 1.32352941],\n",
       "       [1.47058824, 1.61764706, 1.76470588, 1.91176471, 2.05882353],\n",
       "       [2.20588235, 2.35294118, 2.5       , 2.64705882, 2.79411765],\n",
       "       [2.94117647, 3.08823529, 3.23529412, 3.38235294, 3.52941176],\n",
       "       [3.67647059, 3.82352941, 3.97058824, 4.11764706, 4.26470588],\n",
       "       [4.41176471, 4.55882353, 4.70588235, 4.85294118, 5.        ]])"
      ]
     },
     "execution_count": 48,
     "metadata": {},
     "output_type": "execute_result"
    }
   ],
   "source": [
    "arr_eg = np.linspace(0,5,35).reshape(7,5)\n",
    "arr_eg"
   ]
  },
  {
   "cell_type": "markdown",
   "id": "07b19dfb",
   "metadata": {},
   "source": [
    "* First 3 rows and all columns\n",
    "* rows from 0:6 and all columns\n",
    "* array of shape 1*9 with elements: \n",
    "\n",
    "* 3.08823529, 3.23529412, 3.38235294,3.82352941, 3.97058824, 4.11764706,4.55882353, 4.70588235, 4.85294118"
   ]
  },
  {
   "cell_type": "code",
   "execution_count": 50,
   "id": "93cb95a7",
   "metadata": {},
   "outputs": [
    {
     "data": {
      "text/plain": [
       "array([[0.        , 0.14705882, 0.29411765, 0.44117647, 0.58823529],\n",
       "       [0.73529412, 0.88235294, 1.02941176, 1.17647059, 1.32352941],\n",
       "       [1.47058824, 1.61764706, 1.76470588, 1.91176471, 2.05882353]])"
      ]
     },
     "execution_count": 50,
     "metadata": {},
     "output_type": "execute_result"
    }
   ],
   "source": [
    "arr_eg[:3]"
   ]
  },
  {
   "cell_type": "code",
   "execution_count": 60,
   "id": "921ffa04",
   "metadata": {},
   "outputs": [
    {
     "data": {
      "text/plain": [
       "array([[0.        , 0.14705882, 0.29411765, 0.44117647, 0.58823529],\n",
       "       [0.73529412, 0.88235294, 1.02941176, 1.17647059, 1.32352941],\n",
       "       [1.47058824, 1.61764706, 1.76470588, 1.91176471, 2.05882353],\n",
       "       [2.20588235, 2.35294118, 2.5       , 2.64705882, 2.79411765],\n",
       "       [2.94117647, 3.08823529, 3.23529412, 3.38235294, 3.52941176],\n",
       "       [3.67647059, 3.82352941, 3.97058824, 4.11764706, 4.26470588],\n",
       "       [4.41176471, 4.55882353, 4.70588235, 4.85294118, 5.        ]])"
      ]
     },
     "execution_count": 60,
     "metadata": {},
     "output_type": "execute_result"
    }
   ],
   "source": [
    "arr_eg"
   ]
  },
  {
   "cell_type": "code",
   "execution_count": 59,
   "id": "7a69de3f",
   "metadata": {},
   "outputs": [
    {
     "data": {
      "text/plain": [
       "array([[3.08823529, 3.23529412, 3.38235294, 3.82352941, 3.97058824,\n",
       "        4.11764706, 4.55882353, 4.70588235, 4.85294118]])"
      ]
     },
     "execution_count": 59,
     "metadata": {},
     "output_type": "execute_result"
    }
   ],
   "source": [
    "arr_eg[4:,1:4].reshape(1,9)"
   ]
  },
  {
   "cell_type": "code",
   "execution_count": 63,
   "id": "8054630b",
   "metadata": {},
   "outputs": [
    {
     "data": {
      "text/plain": [
       "array([[3.08823529, 3.23529412, 3.38235294, 3.82352941, 3.97058824,\n",
       "        4.11764706, 4.55882353, 4.70588235, 4.85294118]])"
      ]
     },
     "execution_count": 63,
     "metadata": {},
     "output_type": "execute_result"
    }
   ],
   "source": [
    "arr_eg[-3:,-4:-1].reshape(1,9)"
   ]
  },
  {
   "cell_type": "code",
   "execution_count": 65,
   "id": "dd1213d7",
   "metadata": {},
   "outputs": [
    {
     "data": {
      "text/plain": [
       "array([[2.94117647, 3.08823529],\n",
       "       [3.67647059, 3.82352941],\n",
       "       [4.41176471, 4.55882353]])"
      ]
     },
     "execution_count": 65,
     "metadata": {},
     "output_type": "execute_result"
    }
   ],
   "source": [
    "arr_eg[-3:,:2]"
   ]
  },
  {
   "cell_type": "code",
   "execution_count": 67,
   "id": "17dd9880",
   "metadata": {},
   "outputs": [
    {
     "data": {
      "text/plain": [
       "array([[2.20588235, 2.35294118],\n",
       "       [2.94117647, 3.08823529],\n",
       "       [3.67647059, 3.82352941],\n",
       "       [4.41176471, 4.55882353]])"
      ]
     },
     "execution_count": 67,
     "metadata": {},
     "output_type": "execute_result"
    }
   ],
   "source": [
    "arr_eg[-4:,:2]"
   ]
  },
  {
   "cell_type": "markdown",
   "id": "8a1cdeed",
   "metadata": {},
   "source": [
    "## Conditional selection"
   ]
  },
  {
   "cell_type": "code",
   "execution_count": 68,
   "id": "8d8f8c74",
   "metadata": {},
   "outputs": [],
   "source": [
    "arr2 = np.arange(0,11)"
   ]
  },
  {
   "cell_type": "code",
   "execution_count": 69,
   "id": "552674fd",
   "metadata": {},
   "outputs": [
    {
     "data": {
      "text/plain": [
       "array([ 0,  1,  2,  3,  4,  5,  6,  7,  8,  9, 10])"
      ]
     },
     "execution_count": 69,
     "metadata": {},
     "output_type": "execute_result"
    }
   ],
   "source": [
    "arr2"
   ]
  },
  {
   "cell_type": "code",
   "execution_count": 70,
   "id": "5f19c430",
   "metadata": {},
   "outputs": [
    {
     "data": {
      "text/plain": [
       "array([False, False, False, False, False,  True,  True,  True,  True,\n",
       "        True,  True])"
      ]
     },
     "execution_count": 70,
     "metadata": {},
     "output_type": "execute_result"
    }
   ],
   "source": [
    "arr2 > 4"
   ]
  },
  {
   "cell_type": "code",
   "execution_count": 71,
   "id": "1f6bad90",
   "metadata": {},
   "outputs": [
    {
     "data": {
      "text/plain": [
       "array([ 5,  6,  7,  8,  9, 10])"
      ]
     },
     "execution_count": 71,
     "metadata": {},
     "output_type": "execute_result"
    }
   ],
   "source": [
    "arr2[arr2 > 4]"
   ]
  },
  {
   "cell_type": "code",
   "execution_count": 76,
   "id": "cf9c66da",
   "metadata": {},
   "outputs": [
    {
     "data": {
      "text/plain": [
       "array([False, False, False,  True,  True,  True,  True])"
      ]
     },
     "execution_count": 76,
     "metadata": {},
     "output_type": "execute_result"
    }
   ],
   "source": [
    "arr_eg[:,-2] > 2.5"
   ]
  },
  {
   "cell_type": "code",
   "execution_count": 74,
   "id": "b6fddd63",
   "metadata": {},
   "outputs": [
    {
     "ename": "IndexError",
     "evalue": "too many indices for array: array is 1-dimensional, but 2 were indexed",
     "output_type": "error",
     "traceback": [
      "\u001b[0;31m---------------------------------------------------------------------------\u001b[0m",
      "\u001b[0;31mIndexError\u001b[0m                                Traceback (most recent call last)",
      "Cell \u001b[0;32mIn[74], line 1\u001b[0m\n\u001b[0;32m----> 1\u001b[0m arr[arr_eg \u001b[38;5;241m>\u001b[39m \u001b[38;5;241m2.5\u001b[39m]\n",
      "\u001b[0;31mIndexError\u001b[0m: too many indices for array: array is 1-dimensional, but 2 were indexed"
     ]
    }
   ],
   "source": [
    "arr[arr_eg > 2.5]"
   ]
  },
  {
   "cell_type": "code",
   "execution_count": 77,
   "id": "244ce9b5",
   "metadata": {},
   "outputs": [
    {
     "data": {
      "text/plain": [
       "array([2.64705882, 3.38235294, 4.11764706, 4.85294118])"
      ]
     },
     "execution_count": 77,
     "metadata": {},
     "output_type": "execute_result"
    }
   ],
   "source": [
    "arr_eg[:,-2][arr_eg[:,-2] > 2.5]"
   ]
  },
  {
   "cell_type": "code",
   "execution_count": 78,
   "id": "508aa8eb",
   "metadata": {},
   "outputs": [
    {
     "data": {
      "text/plain": [
       "array([[0.        , 0.14705882, 0.29411765, 0.44117647, 0.58823529],\n",
       "       [0.73529412, 0.88235294, 1.02941176, 1.17647059, 1.32352941],\n",
       "       [1.47058824, 1.61764706, 1.76470588, 1.91176471, 2.05882353],\n",
       "       [2.20588235, 2.35294118, 2.5       , 2.64705882, 2.79411765],\n",
       "       [2.94117647, 3.08823529, 3.23529412, 3.38235294, 3.52941176],\n",
       "       [3.67647059, 3.82352941, 3.97058824, 4.11764706, 4.26470588],\n",
       "       [4.41176471, 4.55882353, 4.70588235, 4.85294118, 5.        ]])"
      ]
     },
     "execution_count": 78,
     "metadata": {},
     "output_type": "execute_result"
    }
   ],
   "source": [
    "arr_eg"
   ]
  },
  {
   "cell_type": "code",
   "execution_count": 84,
   "id": "9efda4e1",
   "metadata": {},
   "outputs": [
    {
     "data": {
      "text/plain": [
       "array([[2.05882353, 2.20588235, 2.35294118],\n",
       "       [2.5       , 2.64705882, 2.79411765],\n",
       "       [2.94117647, 3.08823529, 3.23529412],\n",
       "       [3.38235294, 3.52941176, 3.67647059],\n",
       "       [3.82352941, 3.97058824, 4.11764706],\n",
       "       [4.26470588, 4.41176471, 4.55882353],\n",
       "       [4.70588235, 4.85294118, 5.        ]])"
      ]
     },
     "execution_count": 84,
     "metadata": {},
     "output_type": "execute_result"
    }
   ],
   "source": [
    "arr_eg.reshape(35,)[arr_eg.reshape(35,) > 2].reshape(7,3)"
   ]
  },
  {
   "cell_type": "code",
   "execution_count": 86,
   "id": "9592e508",
   "metadata": {},
   "outputs": [
    {
     "data": {
      "text/plain": [
       "array([0.        , 0.14705882, 0.29411765, 0.44117647, 0.58823529,\n",
       "       0.73529412, 0.88235294, 1.02941176, 1.17647059, 1.32352941,\n",
       "       1.47058824, 1.61764706, 1.76470588, 1.91176471, 2.05882353,\n",
       "       2.20588235, 2.35294118, 2.5       , 2.64705882, 2.79411765,\n",
       "       2.94117647, 3.08823529, 3.23529412, 3.38235294, 3.52941176,\n",
       "       3.67647059, 3.82352941, 3.97058824, 4.11764706, 4.26470588,\n",
       "       4.41176471, 4.55882353, 4.70588235, 4.85294118, 5.        ])"
      ]
     },
     "execution_count": 86,
     "metadata": {},
     "output_type": "execute_result"
    }
   ],
   "source": [
    "arr_eg_1d = arr_eg.reshape(35,)\n",
    "arr_eg_1d"
   ]
  },
  {
   "cell_type": "code",
   "execution_count": 87,
   "id": "0e621d43",
   "metadata": {},
   "outputs": [
    {
     "data": {
      "text/plain": [
       "array([[2.05882353, 2.20588235, 2.35294118],\n",
       "       [2.5       , 2.64705882, 2.79411765],\n",
       "       [2.94117647, 3.08823529, 3.23529412],\n",
       "       [3.38235294, 3.52941176, 3.67647059],\n",
       "       [3.82352941, 3.97058824, 4.11764706],\n",
       "       [4.26470588, 4.41176471, 4.55882353],\n",
       "       [4.70588235, 4.85294118, 5.        ]])"
      ]
     },
     "execution_count": 87,
     "metadata": {},
     "output_type": "execute_result"
    }
   ],
   "source": [
    "arr_eg_1d[arr_eg_1d > 2].reshape(7,3)"
   ]
  },
  {
   "cell_type": "code",
   "execution_count": null,
   "id": "6ce209e3",
   "metadata": {},
   "outputs": [],
   "source": []
  }
 ],
 "metadata": {
  "kernelspec": {
   "display_name": "Python 3 (ipykernel)",
   "language": "python",
   "name": "python3"
  },
  "language_info": {
   "codemirror_mode": {
    "name": "ipython",
    "version": 3
   },
   "file_extension": ".py",
   "mimetype": "text/x-python",
   "name": "python",
   "nbconvert_exporter": "python",
   "pygments_lexer": "ipython3",
   "version": "3.11.5"
  }
 },
 "nbformat": 4,
 "nbformat_minor": 5
}
