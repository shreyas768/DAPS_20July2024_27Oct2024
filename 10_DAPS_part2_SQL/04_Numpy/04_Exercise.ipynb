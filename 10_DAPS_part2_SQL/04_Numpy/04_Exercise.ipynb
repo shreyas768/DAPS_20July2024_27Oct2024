{
 "cells": [
  {
   "cell_type": "code",
   "execution_count": 1,
   "id": "10bf77d1",
   "metadata": {},
   "outputs": [],
   "source": [
    "#Import Numpy"
   ]
  },
  {
   "cell_type": "code",
   "execution_count": 2,
   "id": "674164bf",
   "metadata": {},
   "outputs": [],
   "source": [
    "#create an array of 10 zeros"
   ]
  },
  {
   "cell_type": "code",
   "execution_count": 3,
   "id": "a2fc6210",
   "metadata": {},
   "outputs": [],
   "source": [
    "#create an array of 10 ones"
   ]
  },
  {
   "cell_type": "code",
   "execution_count": 4,
   "id": "72503c2c",
   "metadata": {},
   "outputs": [],
   "source": [
    "#create an array of 10 fives"
   ]
  },
  {
   "cell_type": "code",
   "execution_count": 5,
   "id": "bd361cef",
   "metadata": {},
   "outputs": [],
   "source": [
    "#create an array of the integers from 10 to 50"
   ]
  },
  {
   "cell_type": "code",
   "execution_count": 6,
   "id": "5794fd40",
   "metadata": {},
   "outputs": [],
   "source": [
    "#create an array of all the even integers from 10 to 50"
   ]
  },
  {
   "cell_type": "code",
   "execution_count": 7,
   "id": "e8e5a32b",
   "metadata": {},
   "outputs": [],
   "source": [
    "#create a 3*3 matrix with values ranging from 0 to 8"
   ]
  },
  {
   "cell_type": "code",
   "execution_count": 8,
   "id": "dafb8d3e",
   "metadata": {},
   "outputs": [],
   "source": [
    "#create a 3*3 identity matrix"
   ]
  },
  {
   "cell_type": "code",
   "execution_count": 9,
   "id": "09e8cc16",
   "metadata": {},
   "outputs": [],
   "source": [
    "#use numpy to generate a random number between 0 and 1"
   ]
  },
  {
   "cell_type": "code",
   "execution_count": 10,
   "id": "7d5db785",
   "metadata": {},
   "outputs": [],
   "source": [
    "#use numpy to generate an array of 25 random numbers samples from a std normal distribution"
   ]
  },
  {
   "cell_type": "code",
   "execution_count": 11,
   "id": "60016e1f",
   "metadata": {},
   "outputs": [],
   "source": [
    "#create an array of 20 linearly spaced points between 0 and 1"
   ]
  },
  {
   "cell_type": "code",
   "execution_count": 13,
   "id": "ce3e71fd",
   "metadata": {},
   "outputs": [],
   "source": [
    "#create an matrix with following details:\n",
    "\n",
    "#row1: 12,13,14,15\n",
    "#row2 : 17,18,19,20\n",
    "#row3 : 22,23,24,25"
   ]
  },
  {
   "cell_type": "code",
   "execution_count": null,
   "id": "f06a7d3a",
   "metadata": {},
   "outputs": [],
   "source": [
    "#get sum of all the values of above mat"
   ]
  },
  {
   "cell_type": "code",
   "execution_count": 14,
   "id": "31278c42",
   "metadata": {},
   "outputs": [],
   "source": [
    "#get sum of all the values of above mat along axis0"
   ]
  },
  {
   "cell_type": "code",
   "execution_count": 15,
   "id": "96b4fb98",
   "metadata": {},
   "outputs": [],
   "source": [
    "#get sum of all the values of above mat along axis1"
   ]
  },
  {
   "cell_type": "code",
   "execution_count": null,
   "id": "ef15b3ed",
   "metadata": {},
   "outputs": [],
   "source": []
  }
 ],
 "metadata": {
  "kernelspec": {
   "display_name": "Python 3 (ipykernel)",
   "language": "python",
   "name": "python3"
  },
  "language_info": {
   "codemirror_mode": {
    "name": "ipython",
    "version": 3
   },
   "file_extension": ".py",
   "mimetype": "text/x-python",
   "name": "python",
   "nbconvert_exporter": "python",
   "pygments_lexer": "ipython3",
   "version": "3.11.5"
  }
 },
 "nbformat": 4,
 "nbformat_minor": 5
}
