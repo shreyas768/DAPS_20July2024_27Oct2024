{
 "cells": [
  {
   "cell_type": "markdown",
   "id": "014aaac8",
   "metadata": {},
   "source": [
    "# Imports"
   ]
  },
  {
   "cell_type": "code",
   "execution_count": 1,
   "id": "29f7f4b4",
   "metadata": {},
   "outputs": [],
   "source": [
    "import numpy as np\n",
    "import pandas as pd"
   ]
  },
  {
   "cell_type": "markdown",
   "id": "c39ad4eb",
   "metadata": {},
   "source": [
    "## Create a Series from Python Objects"
   ]
  },
  {
   "cell_type": "code",
   "execution_count": 6,
   "id": "365b14f7",
   "metadata": {},
   "outputs": [],
   "source": [
    "mydata = [1776,1867,1821]\n",
    "myind = ['USA','Canada','Mexico']"
   ]
  },
  {
   "cell_type": "code",
   "execution_count": 7,
   "id": "4b0135af",
   "metadata": {},
   "outputs": [
    {
     "data": {
      "text/plain": [
       "0    1776\n",
       "1    1867\n",
       "2    1821\n",
       "dtype: int64"
      ]
     },
     "execution_count": 7,
     "metadata": {},
     "output_type": "execute_result"
    }
   ],
   "source": [
    "pd.Series(data=mydata)"
   ]
  },
  {
   "cell_type": "code",
   "execution_count": 8,
   "id": "32abb3c4",
   "metadata": {},
   "outputs": [
    {
     "data": {
      "text/plain": [
       "USA       1776\n",
       "Canada    1867\n",
       "Mexico    1821\n",
       "dtype: int64"
      ]
     },
     "execution_count": 8,
     "metadata": {},
     "output_type": "execute_result"
    }
   ],
   "source": [
    "pd.Series(data=mydata,index=myind)"
   ]
  },
  {
   "cell_type": "code",
   "execution_count": 10,
   "id": "caa72b53",
   "metadata": {},
   "outputs": [],
   "source": [
    "rand_data = np.random.randint(0,100,4)"
   ]
  },
  {
   "cell_type": "code",
   "execution_count": 11,
   "id": "8c83bf5b",
   "metadata": {},
   "outputs": [],
   "source": [
    "names = ['Adam','Bob','Charlie','David']"
   ]
  },
  {
   "cell_type": "code",
   "execution_count": 13,
   "id": "a36a3718",
   "metadata": {},
   "outputs": [
    {
     "data": {
      "text/plain": [
       "96       Adam\n",
       "76        Bob\n",
       "33    Charlie\n",
       "53      David\n",
       "dtype: object"
      ]
     },
     "execution_count": 13,
     "metadata": {},
     "output_type": "execute_result"
    }
   ],
   "source": [
    "pd.Series(names,rand_data) #maintain the order"
   ]
  },
  {
   "cell_type": "code",
   "execution_count": 15,
   "id": "b9e834c6",
   "metadata": {},
   "outputs": [],
   "source": [
    "myser = pd.Series(index = names,data=rand_data) #specifically define index and data"
   ]
  },
  {
   "cell_type": "code",
   "execution_count": 16,
   "id": "13afdc7a",
   "metadata": {},
   "outputs": [
    {
     "data": {
      "text/plain": [
       "pandas.core.series.Series"
      ]
     },
     "execution_count": 16,
     "metadata": {},
     "output_type": "execute_result"
    }
   ],
   "source": [
    "type(myser)"
   ]
  },
  {
   "cell_type": "markdown",
   "id": "a1a464f5",
   "metadata": {},
   "source": [
    "##### From a Dictionary"
   ]
  },
  {
   "cell_type": "code",
   "execution_count": 17,
   "id": "17836343",
   "metadata": {},
   "outputs": [
    {
     "data": {
      "text/plain": [
       "{'Sammy': 32, 'Frank': 10, 'Matteo': 81}"
      ]
     },
     "execution_count": 17,
     "metadata": {},
     "output_type": "execute_result"
    }
   ],
   "source": [
    "d1 = {'Sammy':32,'Frank':10,'Matteo':81}\n",
    "d1"
   ]
  },
  {
   "cell_type": "code",
   "execution_count": 18,
   "id": "92d79866",
   "metadata": {},
   "outputs": [
    {
     "data": {
      "text/plain": [
       "Sammy     32\n",
       "Frank     10\n",
       "Matteo    81\n",
       "dtype: int64"
      ]
     },
     "execution_count": 18,
     "metadata": {},
     "output_type": "execute_result"
    }
   ],
   "source": [
    "pd.Series(d1)"
   ]
  },
  {
   "cell_type": "markdown",
   "id": "a099dcc6",
   "metadata": {},
   "source": [
    "## Key Ideas"
   ]
  },
  {
   "cell_type": "code",
   "execution_count": 19,
   "id": "c659fa4b",
   "metadata": {},
   "outputs": [],
   "source": [
    "q1 = {\"Japan\":80,'China':450,'India':200,'USA':250}\n",
    "q2 = {'Brazil':100,'China':500,'India':210,'USA':260}"
   ]
  },
  {
   "cell_type": "code",
   "execution_count": 20,
   "id": "56abf3ec",
   "metadata": {},
   "outputs": [],
   "source": [
    "#convert into pandas series\n",
    "rev_q1 = pd.Series(q1)\n",
    "rev_q2 = pd.Series(q2)"
   ]
  },
  {
   "cell_type": "code",
   "execution_count": 21,
   "id": "7b52e655",
   "metadata": {},
   "outputs": [
    {
     "data": {
      "text/plain": [
       "Japan     80\n",
       "China    450\n",
       "India    200\n",
       "USA      250\n",
       "dtype: int64"
      ]
     },
     "execution_count": 21,
     "metadata": {},
     "output_type": "execute_result"
    }
   ],
   "source": [
    "rev_q1"
   ]
  },
  {
   "cell_type": "code",
   "execution_count": 22,
   "id": "1bb3c4c7",
   "metadata": {},
   "outputs": [
    {
     "data": {
      "text/plain": [
       "Brazil    100\n",
       "China     500\n",
       "India     210\n",
       "USA       260\n",
       "dtype: int64"
      ]
     },
     "execution_count": 22,
     "metadata": {},
     "output_type": "execute_result"
    }
   ],
   "source": [
    "rev_q2\n"
   ]
  },
  {
   "cell_type": "code",
   "execution_count": 23,
   "id": "20a92b69",
   "metadata": {},
   "outputs": [
    {
     "data": {
      "text/plain": [
       "200"
      ]
     },
     "execution_count": 23,
     "metadata": {},
     "output_type": "execute_result"
    }
   ],
   "source": [
    "rev_q1['India']"
   ]
  },
  {
   "cell_type": "code",
   "execution_count": 24,
   "id": "9e000165",
   "metadata": {},
   "outputs": [
    {
     "name": "stderr",
     "output_type": "stream",
     "text": [
      "/var/folders/wl/v3x3g82n3b38s3cvwvtr0r7h0000gn/T/ipykernel_2501/2508841654.py:1: FutureWarning: Series.__getitem__ treating keys as positions is deprecated. In a future version, integer keys will always be treated as labels (consistent with DataFrame behavior). To access a value by position, use `ser.iloc[pos]`\n",
      "  rev_q1[2]\n"
     ]
    },
    {
     "data": {
      "text/plain": [
       "200"
      ]
     },
     "execution_count": 24,
     "metadata": {},
     "output_type": "execute_result"
    }
   ],
   "source": [
    "rev_q1[2]"
   ]
  },
  {
   "cell_type": "code",
   "execution_count": 25,
   "id": "59591617",
   "metadata": {},
   "outputs": [
    {
     "name": "stderr",
     "output_type": "stream",
     "text": [
      "/var/folders/wl/v3x3g82n3b38s3cvwvtr0r7h0000gn/T/ipykernel_2501/2418760855.py:1: FutureWarning: Series.__getitem__ treating keys as positions is deprecated. In a future version, integer keys will always be treated as labels (consistent with DataFrame behavior). To access a value by position, use `ser.iloc[pos]`\n",
      "  rev_q2[0]\n"
     ]
    },
    {
     "data": {
      "text/plain": [
       "100"
      ]
     },
     "execution_count": 25,
     "metadata": {},
     "output_type": "execute_result"
    }
   ],
   "source": [
    "rev_q2[0]"
   ]
  },
  {
   "cell_type": "markdown",
   "id": "4fdc5be1",
   "metadata": {},
   "source": [
    "### Operations"
   ]
  },
  {
   "cell_type": "code",
   "execution_count": 26,
   "id": "61734bd2",
   "metadata": {},
   "outputs": [
    {
     "data": {
      "text/plain": [
       "Index(['Japan', 'China', 'India', 'USA'], dtype='object')"
      ]
     },
     "execution_count": 26,
     "metadata": {},
     "output_type": "execute_result"
    }
   ],
   "source": [
    "rev_q1.keys()"
   ]
  },
  {
   "cell_type": "code",
   "execution_count": 34,
   "id": "12f89a8f",
   "metadata": {},
   "outputs": [
    {
     "data": {
      "text/plain": [
       "Japan     82\n",
       "China    452\n",
       "India    202\n",
       "USA      252\n",
       "dtype: int64"
      ]
     },
     "execution_count": 34,
     "metadata": {},
     "output_type": "execute_result"
    }
   ],
   "source": [
    "rev_q1+2"
   ]
  },
  {
   "cell_type": "code",
   "execution_count": 28,
   "id": "0d162dfe",
   "metadata": {},
   "outputs": [
    {
     "data": {
      "text/plain": [
       "Brazil    10.0\n",
       "China     50.0\n",
       "India     21.0\n",
       "USA       26.0\n",
       "dtype: float64"
      ]
     },
     "execution_count": 28,
     "metadata": {},
     "output_type": "execute_result"
    }
   ],
   "source": [
    "rev_q2/10"
   ]
  },
  {
   "cell_type": "code",
   "execution_count": 29,
   "id": "25a8237b",
   "metadata": {},
   "outputs": [
    {
     "data": {
      "text/plain": [
       "Brazil      NaN\n",
       "China     950.0\n",
       "India     410.0\n",
       "Japan       NaN\n",
       "USA       510.0\n",
       "dtype: float64"
      ]
     },
     "execution_count": 29,
     "metadata": {},
     "output_type": "execute_result"
    }
   ],
   "source": [
    "#between Series\n",
    "\n",
    "rev_q1 + rev_q2"
   ]
  },
  {
   "cell_type": "code",
   "execution_count": 32,
   "id": "689b0de4",
   "metadata": {},
   "outputs": [
    {
     "data": {
      "text/plain": [
       "Brazil    100.5\n",
       "China     950.0\n",
       "India     410.0\n",
       "Japan      80.5\n",
       "USA       510.0\n",
       "dtype: float64"
      ]
     },
     "execution_count": 32,
     "metadata": {},
     "output_type": "execute_result"
    }
   ],
   "source": [
    "rev_q1.add(rev_q2, fill_value=0.5)"
   ]
  },
  {
   "cell_type": "code",
   "execution_count": 35,
   "id": "53247f84",
   "metadata": {},
   "outputs": [],
   "source": [
    "#help(pd.Series)"
   ]
  },
  {
   "cell_type": "code",
   "execution_count": null,
   "id": "b9749d09",
   "metadata": {},
   "outputs": [],
   "source": []
  }
 ],
 "metadata": {
  "kernelspec": {
   "display_name": "Python 3 (ipykernel)",
   "language": "python",
   "name": "python3"
  },
  "language_info": {
   "codemirror_mode": {
    "name": "ipython",
    "version": 3
   },
   "file_extension": ".py",
   "mimetype": "text/x-python",
   "name": "python",
   "nbconvert_exporter": "python",
   "pygments_lexer": "ipython3",
   "version": "3.11.5"
  }
 },
 "nbformat": 4,
 "nbformat_minor": 5
}
